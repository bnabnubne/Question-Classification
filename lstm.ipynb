{
 "cells": [
  {
   "cell_type": "code",
   "execution_count": 113,
   "metadata": {},
   "outputs": [
    {
     "name": "stdout",
     "output_type": "stream",
     "text": [
      "Số lượng mẫu train: 960\n",
      "Số lượng mẫu test: 240\n"
     ]
    }
   ],
   "source": [
    "import pandas as pd\n",
    "from sklearn.model_selection import train_test_split\n",
    "from sklearn.preprocessing import LabelEncoder\n",
    "from tensorflow.keras.preprocessing.text import Tokenizer\n",
    "from tensorflow.keras.preprocessing.sequence import pad_sequences\n",
    "\n",
    "# Đọc file CSV\n",
    "file_path = 'NLP DATASET.csv'  # Đường dẫn tới file CSV của bạn\n",
    "data = pd.read_csv(file_path)\n",
    "\n",
    "# Tách dữ liệu thành X (câu hỏi) và y (nhãn)\n",
    "X = data['Question']\n",
    "y = data['Label']\n",
    "\n",
    "# Mã hóa nhãn thành số\n",
    "label_encoder = LabelEncoder()\n",
    "y = label_encoder.fit_transform(y)\n",
    "\n",
    "# Chia tập dữ liệu thành train và test\n",
    "X_train, X_test, y_train, y_test = train_test_split(X, y, test_size=0.2, random_state=42)\n",
    "\n",
    "print(\"Số lượng mẫu train:\", len(X_train))\n",
    "print(\"Số lượng mẫu test:\", len(X_test))\n"
   ]
  },
  {
   "cell_type": "code",
   "execution_count": 114,
   "metadata": {},
   "outputs": [
    {
     "name": "stdout",
     "output_type": "stream",
     "text": [
      "Số lượng từ trong từ điển: 1112\n"
     ]
    }
   ],
   "source": [
    "# Khởi tạo Tokenizer\n",
    "tokenizer = Tokenizer()\n",
    "tokenizer.fit_on_texts(X_train)\n",
    "\n",
    "# Chuyển văn bản thành chuỗi số\n",
    "X_train_seq = tokenizer.texts_to_sequences(X_train)\n",
    "X_test_seq = tokenizer.texts_to_sequences(X_test)\n",
    "\n",
    "# Đệm các chuỗi để có cùng độ dài\n",
    "max_length = 50  # Giới hạn độ dài câu\n",
    "X_train_padded = pad_sequences(X_train_seq, maxlen=max_length, padding='post')\n",
    "X_test_padded = pad_sequences(X_test_seq, maxlen=max_length, padding='post')\n",
    "\n",
    "# Kích thước từ điển\n",
    "vocab_size = len(tokenizer.word_index) + 1\n",
    "print(\"Số lượng từ trong từ điển:\", vocab_size)\n"
   ]
  },
  {
   "cell_type": "code",
   "execution_count": 115,
   "metadata": {},
   "outputs": [],
   "source": [
    "import fasttext\n",
    "\n",
    "# Load FastText model từ file .bin\n",
    "model = fasttext.load_model('cc.vi.300.bin')\n"
   ]
  },
  {
   "cell_type": "code",
   "execution_count": 117,
   "metadata": {},
   "outputs": [
    {
     "name": "stdout",
     "output_type": "stream",
     "text": [
      "[-1.22661091e-01  5.53636700e-02  1.41800478e-01  2.95930430e-02\n",
      " -8.27335566e-02 -5.50692640e-02 -4.30196524e-02 -2.86210012e-02\n",
      "  6.81398809e-03 -8.39588344e-02 -5.96411936e-02  1.42467842e-02\n",
      " -1.48809537e-01 -4.79608923e-02 -5.97199649e-02 -3.35736163e-02\n",
      "  8.58044401e-02 -1.00587510e-01 -7.94519261e-02 -8.71512964e-02\n",
      "  2.08056364e-02  2.36146394e-02  8.23296383e-02 -8.33525285e-02\n",
      "  3.77636999e-02  5.23726568e-02  3.54800746e-02 -4.42538597e-02\n",
      "  7.16536939e-02 -1.62647814e-01  7.43294656e-02  1.16684809e-01\n",
      " -7.64077231e-02 -8.51804018e-02 -3.61620262e-02 -9.03779045e-02\n",
      " -1.81313902e-02 -1.05658799e-01  1.35168731e-02  9.71468315e-02\n",
      " -4.03170474e-02  3.45492736e-02 -7.48830661e-02  8.72363336e-03\n",
      "  9.43266004e-02  7.62426257e-02  8.72331560e-02 -2.75415480e-02\n",
      "  1.46978237e-02 -7.19945133e-03  1.11510210e-01 -3.43572088e-02\n",
      "  2.73421183e-02  1.02511436e-01 -1.04237944e-01 -3.46672311e-02\n",
      "  1.58031583e-02 -4.98940386e-02 -2.75668688e-02  8.98529887e-02\n",
      " -4.55422811e-02 -1.39262661e-01  1.34032905e-01  7.23699853e-02\n",
      "  8.33574310e-02  2.24742502e-01  6.00121394e-02 -5.54038994e-02\n",
      "  2.74462998e-01  3.34133096e-02 -1.95262469e-02 -2.88056247e-02\n",
      " -1.62653439e-03 -5.98319992e-03  1.43845588e-01  2.34563112e-01\n",
      "  1.45745993e-01 -1.09102931e-02 -1.47001669e-02 -2.65918672e-02\n",
      "  9.46608093e-03 -8.83763805e-02 -2.92594731e-03 -2.02752709e-01\n",
      " -3.16546932e-02  5.81391305e-02 -1.07495859e-01 -1.34373516e-01\n",
      " -6.42622635e-02 -2.15303153e-02  7.03751221e-02  4.55287211e-02\n",
      " -5.94257340e-02 -6.78192079e-02 -8.84025395e-02  1.54604554e-01\n",
      "  5.87188732e-03  1.34542376e-01  6.24148026e-02 -7.41502941e-02\n",
      "  9.39337611e-02  7.93605447e-02  1.03945971e-01 -4.20582145e-02\n",
      "  5.87784871e-02 -2.39226460e-01 -3.31655852e-02  2.14498535e-01\n",
      "  9.14089382e-03 -1.12494282e-01 -3.07636540e-02  9.05551165e-02\n",
      " -4.44997102e-02 -8.68046284e-02  9.59119275e-02  1.29676461e-02\n",
      "  2.52621551e-03  1.33007437e-01  1.63726270e-01 -5.53703308e-03\n",
      " -8.14834163e-02 -1.02505974e-01 -6.91637248e-02 -4.54330724e-03\n",
      " -8.17141309e-03  6.93959743e-02  2.96184830e-02 -8.21478739e-02\n",
      " -8.27684999e-05  4.60861735e-02 -2.27251649e-03 -7.60997683e-02\n",
      " -1.54623613e-01  8.92658159e-02  1.69519112e-01 -1.17170669e-01\n",
      "  7.78993219e-02  1.61689222e-01  8.03938508e-02 -6.23261603e-03\n",
      " -6.47809207e-02 -1.72758978e-02  6.94228932e-02  3.78602445e-02\n",
      "  8.72167051e-02  9.07401443e-02  1.11339733e-01  2.30660569e-02\n",
      " -1.12214424e-01  3.33626904e-02  8.16752762e-02 -5.03688343e-02\n",
      "  7.09688291e-03 -7.55891874e-02 -3.91749702e-02  6.49773479e-02\n",
      " -2.74462849e-02 -5.27082048e-02 -7.12957755e-02  3.23107094e-02\n",
      " -1.11467969e-02  5.50411604e-02 -1.11454494e-01  9.56094265e-02\n",
      " -8.40863958e-03  3.04314673e-01 -6.00458309e-03 -2.31582031e-01\n",
      " -1.50510758e-01  6.38700798e-02 -9.01627466e-02 -1.47113457e-01\n",
      "  6.71609193e-02 -1.22376397e-01 -1.01157732e-01  1.89898871e-02\n",
      "  6.93979859e-03  1.45240352e-02 -1.38346227e-02  1.20103844e-01\n",
      "  3.33093591e-02 -1.43687055e-01  2.37822115e-01  3.76785062e-02\n",
      "  2.21132979e-01  5.66569865e-02 -8.82382505e-03  5.48256487e-02\n",
      "  4.81799990e-02 -4.97032367e-02  5.43501675e-02  9.60207582e-02\n",
      "  1.31077096e-01 -3.66820768e-02  9.55588445e-02 -1.16369203e-01\n",
      " -4.37511727e-02 -1.35481134e-02  1.99282497e-01 -3.64694856e-02\n",
      " -1.61579028e-01 -3.18182074e-02  1.68432742e-02 -7.09560513e-03\n",
      "  2.27555968e-02 -1.59604400e-02 -2.37128139e-03  1.46424577e-01\n",
      "  4.79778796e-02 -5.12452163e-02 -1.72168016e-02 -5.51616512e-02\n",
      " -2.00812370e-02  4.14224714e-03  6.97771162e-02 -5.50816581e-02\n",
      " -2.96730474e-02 -6.06941096e-02 -1.21627018e-01  7.57496655e-02\n",
      "  1.25773139e-02 -2.47741476e-01  1.45305812e-01  3.08038462e-02\n",
      "  1.05605684e-02 -9.91528481e-03  3.26294079e-02  4.33156639e-03\n",
      "  1.23497080e-02 -9.73078758e-02  9.34973732e-02  3.98645103e-02\n",
      "  7.90601596e-03 -3.84134501e-02  7.32685179e-02  8.04926008e-02\n",
      " -3.82273495e-02  4.96004745e-02 -6.16973899e-02 -1.47786111e-01\n",
      "  1.23246282e-01  2.18558256e-02  3.43487039e-02  3.21154483e-02\n",
      "  7.97723234e-02 -1.00942655e-02 -9.34676901e-02  5.80987707e-02\n",
      " -5.41230701e-02  2.99049858e-02  7.10598230e-02 -1.65362544e-02\n",
      "  1.57811373e-01 -7.55814910e-02 -7.06715509e-03  7.21933246e-02\n",
      " -6.24634176e-02 -2.34070588e-02  4.39388230e-02 -8.07918087e-02\n",
      "  1.30555302e-01 -4.90858741e-02 -1.22196980e-01  1.89606026e-02\n",
      "  3.24608423e-02 -8.37989151e-02  4.89303730e-02  4.31075990e-02\n",
      " -5.70292324e-02 -1.70020759e-03 -3.68243307e-02  1.80572271e-03\n",
      " -2.62219924e-02  8.27039331e-02 -1.88549608e-02 -1.38142984e-02\n",
      " -1.04794949e-01 -1.81634367e-01 -1.06919914e-01 -4.68246266e-02\n",
      "  7.15478510e-03  3.23048234e-02  1.62538767e-01  5.36311418e-03\n",
      " -2.83120163e-02  2.06501652e-02 -7.61728138e-02 -1.28989741e-02\n",
      "  6.04805648e-02 -6.45102635e-02  9.18097794e-02 -2.36842632e-02\n",
      " -1.05439819e-01  1.19787768e-01 -2.27135792e-03 -9.71265137e-04\n",
      " -3.23376618e-02 -6.22935742e-02  5.02124429e-03  1.62393376e-02]\n"
     ]
    }
   ],
   "source": [
    "print(model.get_word_vector('giá'))  # Lấy thử vector của từ \"học\""
   ]
  },
  {
   "cell_type": "code",
   "execution_count": 118,
   "metadata": {},
   "outputs": [
    {
     "name": "stdout",
     "output_type": "stream",
     "text": [
      "Số từ không tìm thấy sau xử lý: 0/1111\n"
     ]
    }
   ],
   "source": [
    "# Xử lý từ trong tokenizer (chuyển thành chữ thường)\n",
    "processed_word_index = {word.lower(): idx for word, idx in tokenizer.word_index.items()}\n",
    "\n",
    "# Kiểm tra lại từ trong FastText\n",
    "missing_words = 0\n",
    "for word in processed_word_index.keys():\n",
    "    try:\n",
    "        _ = model.get_word_vector(word)  # Kiểm tra từ trong FastText\n",
    "    except KeyError:\n",
    "        missing_words += 1\n",
    "\n",
    "print(f\"Số từ không tìm thấy sau xử lý: {missing_words}/{len(processed_word_index)}\")\n"
   ]
  },
  {
   "cell_type": "code",
   "execution_count": 120,
   "metadata": {},
   "outputs": [
    {
     "name": "stdout",
     "output_type": "stream",
     "text": [
      "Embedding matrix đã được khởi tạo.\n",
      "Shape của embedding matrix: (1112, 300)\n"
     ]
    }
   ],
   "source": [
    "import numpy as np\n",
    "\n",
    "# Khởi tạo embedding_matrix\n",
    "embedding_matrix = np.zeros((vocab_size, 300))  # vocab_size là kích thước từ điển\n",
    "\n",
    "# Tạo embedding matrix từ FastText\n",
    "for word, idx in tokenizer.word_index.items():\n",
    "    if idx < vocab_size:  # Đảm bảo chỉ số không vượt quá vocab_size\n",
    "        embedding_matrix[idx] = model.get_word_vector(word)\n",
    "\n",
    "print(\"Embedding matrix đã được khởi tạo.\")\n",
    "print(\"Shape của embedding matrix:\", embedding_matrix.shape)\n"
   ]
  },
  {
   "cell_type": "code",
   "execution_count": 130,
   "metadata": {},
   "outputs": [
    {
     "data": {
      "text/html": [
       "<pre style=\"white-space:pre;overflow-x:auto;line-height:normal;font-family:Menlo,'DejaVu Sans Mono',consolas,'Courier New',monospace\"><span style=\"font-weight: bold\">Model: \"sequential_19\"</span>\n",
       "</pre>\n"
      ],
      "text/plain": [
       "\u001b[1mModel: \"sequential_19\"\u001b[0m\n"
      ]
     },
     "metadata": {},
     "output_type": "display_data"
    },
    {
     "data": {
      "text/html": [
       "<pre style=\"white-space:pre;overflow-x:auto;line-height:normal;font-family:Menlo,'DejaVu Sans Mono',consolas,'Courier New',monospace\">┏━━━━━━━━━━━━━━━━━━━━━━━━━━━━━━━━━┳━━━━━━━━━━━━━━━━━━━━━━━━┳━━━━━━━━━━━━━━━┓\n",
       "┃<span style=\"font-weight: bold\"> Layer (type)                    </span>┃<span style=\"font-weight: bold\"> Output Shape           </span>┃<span style=\"font-weight: bold\">       Param # </span>┃\n",
       "┡━━━━━━━━━━━━━━━━━━━━━━━━━━━━━━━━━╇━━━━━━━━━━━━━━━━━━━━━━━━╇━━━━━━━━━━━━━━━┩\n",
       "│ embedding_20 (<span style=\"color: #0087ff; text-decoration-color: #0087ff\">Embedding</span>)        │ (<span style=\"color: #00d7ff; text-decoration-color: #00d7ff\">None</span>, <span style=\"color: #00af00; text-decoration-color: #00af00\">50</span>, <span style=\"color: #00af00; text-decoration-color: #00af00\">300</span>)        │       <span style=\"color: #00af00; text-decoration-color: #00af00\">333,600</span> │\n",
       "├─────────────────────────────────┼────────────────────────┼───────────────┤\n",
       "│ bidirectional (<span style=\"color: #0087ff; text-decoration-color: #0087ff\">Bidirectional</span>)   │ (<span style=\"color: #00d7ff; text-decoration-color: #00d7ff\">None</span>, <span style=\"color: #00af00; text-decoration-color: #00af00\">256</span>)            │       <span style=\"color: #00af00; text-decoration-color: #00af00\">439,296</span> │\n",
       "├─────────────────────────────────┼────────────────────────┼───────────────┤\n",
       "│ dropout_19 (<span style=\"color: #0087ff; text-decoration-color: #0087ff\">Dropout</span>)            │ (<span style=\"color: #00d7ff; text-decoration-color: #00d7ff\">None</span>, <span style=\"color: #00af00; text-decoration-color: #00af00\">256</span>)            │             <span style=\"color: #00af00; text-decoration-color: #00af00\">0</span> │\n",
       "├─────────────────────────────────┼────────────────────────┼───────────────┤\n",
       "│ dense_38 (<span style=\"color: #0087ff; text-decoration-color: #0087ff\">Dense</span>)                │ (<span style=\"color: #00d7ff; text-decoration-color: #00d7ff\">None</span>, <span style=\"color: #00af00; text-decoration-color: #00af00\">64</span>)             │        <span style=\"color: #00af00; text-decoration-color: #00af00\">16,448</span> │\n",
       "├─────────────────────────────────┼────────────────────────┼───────────────┤\n",
       "│ dense_39 (<span style=\"color: #0087ff; text-decoration-color: #0087ff\">Dense</span>)                │ (<span style=\"color: #00d7ff; text-decoration-color: #00d7ff\">None</span>, <span style=\"color: #00af00; text-decoration-color: #00af00\">8</span>)              │           <span style=\"color: #00af00; text-decoration-color: #00af00\">520</span> │\n",
       "└─────────────────────────────────┴────────────────────────┴───────────────┘\n",
       "</pre>\n"
      ],
      "text/plain": [
       "┏━━━━━━━━━━━━━━━━━━━━━━━━━━━━━━━━━┳━━━━━━━━━━━━━━━━━━━━━━━━┳━━━━━━━━━━━━━━━┓\n",
       "┃\u001b[1m \u001b[0m\u001b[1mLayer (type)                   \u001b[0m\u001b[1m \u001b[0m┃\u001b[1m \u001b[0m\u001b[1mOutput Shape          \u001b[0m\u001b[1m \u001b[0m┃\u001b[1m \u001b[0m\u001b[1m      Param #\u001b[0m\u001b[1m \u001b[0m┃\n",
       "┡━━━━━━━━━━━━━━━━━━━━━━━━━━━━━━━━━╇━━━━━━━━━━━━━━━━━━━━━━━━╇━━━━━━━━━━━━━━━┩\n",
       "│ embedding_20 (\u001b[38;5;33mEmbedding\u001b[0m)        │ (\u001b[38;5;45mNone\u001b[0m, \u001b[38;5;34m50\u001b[0m, \u001b[38;5;34m300\u001b[0m)        │       \u001b[38;5;34m333,600\u001b[0m │\n",
       "├─────────────────────────────────┼────────────────────────┼───────────────┤\n",
       "│ bidirectional (\u001b[38;5;33mBidirectional\u001b[0m)   │ (\u001b[38;5;45mNone\u001b[0m, \u001b[38;5;34m256\u001b[0m)            │       \u001b[38;5;34m439,296\u001b[0m │\n",
       "├─────────────────────────────────┼────────────────────────┼───────────────┤\n",
       "│ dropout_19 (\u001b[38;5;33mDropout\u001b[0m)            │ (\u001b[38;5;45mNone\u001b[0m, \u001b[38;5;34m256\u001b[0m)            │             \u001b[38;5;34m0\u001b[0m │\n",
       "├─────────────────────────────────┼────────────────────────┼───────────────┤\n",
       "│ dense_38 (\u001b[38;5;33mDense\u001b[0m)                │ (\u001b[38;5;45mNone\u001b[0m, \u001b[38;5;34m64\u001b[0m)             │        \u001b[38;5;34m16,448\u001b[0m │\n",
       "├─────────────────────────────────┼────────────────────────┼───────────────┤\n",
       "│ dense_39 (\u001b[38;5;33mDense\u001b[0m)                │ (\u001b[38;5;45mNone\u001b[0m, \u001b[38;5;34m8\u001b[0m)              │           \u001b[38;5;34m520\u001b[0m │\n",
       "└─────────────────────────────────┴────────────────────────┴───────────────┘\n"
      ]
     },
     "metadata": {},
     "output_type": "display_data"
    },
    {
     "data": {
      "text/html": [
       "<pre style=\"white-space:pre;overflow-x:auto;line-height:normal;font-family:Menlo,'DejaVu Sans Mono',consolas,'Courier New',monospace\"><span style=\"font-weight: bold\"> Total params: </span><span style=\"color: #00af00; text-decoration-color: #00af00\">789,864</span> (3.01 MB)\n",
       "</pre>\n"
      ],
      "text/plain": [
       "\u001b[1m Total params: \u001b[0m\u001b[38;5;34m789,864\u001b[0m (3.01 MB)\n"
      ]
     },
     "metadata": {},
     "output_type": "display_data"
    },
    {
     "data": {
      "text/html": [
       "<pre style=\"white-space:pre;overflow-x:auto;line-height:normal;font-family:Menlo,'DejaVu Sans Mono',consolas,'Courier New',monospace\"><span style=\"font-weight: bold\"> Trainable params: </span><span style=\"color: #00af00; text-decoration-color: #00af00\">456,264</span> (1.74 MB)\n",
       "</pre>\n"
      ],
      "text/plain": [
       "\u001b[1m Trainable params: \u001b[0m\u001b[38;5;34m456,264\u001b[0m (1.74 MB)\n"
      ]
     },
     "metadata": {},
     "output_type": "display_data"
    },
    {
     "data": {
      "text/html": [
       "<pre style=\"white-space:pre;overflow-x:auto;line-height:normal;font-family:Menlo,'DejaVu Sans Mono',consolas,'Courier New',monospace\"><span style=\"font-weight: bold\"> Non-trainable params: </span><span style=\"color: #00af00; text-decoration-color: #00af00\">333,600</span> (1.27 MB)\n",
       "</pre>\n"
      ],
      "text/plain": [
       "\u001b[1m Non-trainable params: \u001b[0m\u001b[38;5;34m333,600\u001b[0m (1.27 MB)\n"
      ]
     },
     "metadata": {},
     "output_type": "display_data"
    }
   ],
   "source": [
    "from tensorflow.keras.models import Sequential\n",
    "from tensorflow.keras.layers import Embedding, LSTM, Bidirectional, Dense, Dropout\n",
    "\n",
    "\n",
    "# Xây dựng mô hình\n",
    "model = Sequential([\n",
    "    Embedding(input_dim=vocab_size, \n",
    "              output_dim=300, \n",
    "              weights=[embedding_matrix], \n",
    "              input_shape=(max_length,),  \n",
    "              trainable=False),\n",
    "    Bidirectional(LSTM(units=128, return_sequences=False)),\n",
    "    Dropout(0.5),\n",
    "    Dense(units=64, activation='relu'),\n",
    "    Dense(units=num_classes, activation='softmax')\n",
    "])\n",
    "\n",
    "# Compile mô hình\n",
    "model.compile(optimizer='adam', loss='sparse_categorical_crossentropy', metrics=['accuracy'])\n",
    "\n",
    "# Kiểm tra cấu trúc mô hình\n",
    "model.summary()\n",
    "\n",
    "\n"
   ]
  },
  {
   "cell_type": "code",
   "execution_count": 131,
   "metadata": {},
   "outputs": [
    {
     "name": "stdout",
     "output_type": "stream",
     "text": [
      "Epoch 1/30\n",
      "\u001b[1m60/60\u001b[0m \u001b[32m━━━━━━━━━━━━━━━━━━━━\u001b[0m\u001b[37m\u001b[0m \u001b[1m5s\u001b[0m 57ms/step - accuracy: 0.2452 - loss: 1.9906 - val_accuracy: 0.6000 - val_loss: 1.2223 - learning_rate: 0.0010\n",
      "Epoch 2/30\n",
      "\u001b[1m60/60\u001b[0m \u001b[32m━━━━━━━━━━━━━━━━━━━━\u001b[0m\u001b[37m\u001b[0m \u001b[1m4s\u001b[0m 62ms/step - accuracy: 0.7051 - loss: 0.9896 - val_accuracy: 0.7917 - val_loss: 0.6429 - learning_rate: 0.0010\n",
      "Epoch 3/30\n",
      "\u001b[1m60/60\u001b[0m \u001b[32m━━━━━━━━━━━━━━━━━━━━\u001b[0m\u001b[37m\u001b[0m \u001b[1m5s\u001b[0m 76ms/step - accuracy: 0.8395 - loss: 0.5694 - val_accuracy: 0.8583 - val_loss: 0.5131 - learning_rate: 0.0010\n",
      "Epoch 4/30\n",
      "\u001b[1m60/60\u001b[0m \u001b[32m━━━━━━━━━━━━━━━━━━━━\u001b[0m\u001b[37m\u001b[0m \u001b[1m4s\u001b[0m 61ms/step - accuracy: 0.8769 - loss: 0.3836 - val_accuracy: 0.8833 - val_loss: 0.4300 - learning_rate: 0.0010\n",
      "Epoch 5/30\n",
      "\u001b[1m60/60\u001b[0m \u001b[32m━━━━━━━━━━━━━━━━━━━━\u001b[0m\u001b[37m\u001b[0m \u001b[1m4s\u001b[0m 61ms/step - accuracy: 0.8991 - loss: 0.3279 - val_accuracy: 0.8833 - val_loss: 0.3894 - learning_rate: 0.0010\n",
      "Epoch 6/30\n",
      "\u001b[1m60/60\u001b[0m \u001b[32m━━━━━━━━━━━━━━━━━━━━\u001b[0m\u001b[37m\u001b[0m \u001b[1m4s\u001b[0m 62ms/step - accuracy: 0.9292 - loss: 0.2262 - val_accuracy: 0.8750 - val_loss: 0.3619 - learning_rate: 0.0010\n",
      "Epoch 7/30\n",
      "\u001b[1m60/60\u001b[0m \u001b[32m━━━━━━━━━━━━━━━━━━━━\u001b[0m\u001b[37m\u001b[0m \u001b[1m4s\u001b[0m 70ms/step - accuracy: 0.9528 - loss: 0.1760 - val_accuracy: 0.9042 - val_loss: 0.3321 - learning_rate: 0.0010\n",
      "Epoch 8/30\n",
      "\u001b[1m60/60\u001b[0m \u001b[32m━━━━━━━━━━━━━━━━━━━━\u001b[0m\u001b[37m\u001b[0m \u001b[1m4s\u001b[0m 66ms/step - accuracy: 0.9528 - loss: 0.1597 - val_accuracy: 0.9000 - val_loss: 0.3547 - learning_rate: 0.0010\n",
      "Epoch 9/30\n",
      "\u001b[1m60/60\u001b[0m \u001b[32m━━━━━━━━━━━━━━━━━━━━\u001b[0m\u001b[37m\u001b[0m \u001b[1m4s\u001b[0m 65ms/step - accuracy: 0.9621 - loss: 0.1496 - val_accuracy: 0.9083 - val_loss: 0.3763 - learning_rate: 0.0010\n",
      "Epoch 10/30\n",
      "\u001b[1m60/60\u001b[0m \u001b[32m━━━━━━━━━━━━━━━━━━━━\u001b[0m\u001b[37m\u001b[0m \u001b[1m4s\u001b[0m 68ms/step - accuracy: 0.9669 - loss: 0.1262 - val_accuracy: 0.9042 - val_loss: 0.3699 - learning_rate: 0.0010\n",
      "Epoch 11/30\n",
      "\u001b[1m60/60\u001b[0m \u001b[32m━━━━━━━━━━━━━━━━━━━━\u001b[0m\u001b[37m\u001b[0m \u001b[1m4s\u001b[0m 64ms/step - accuracy: 0.9814 - loss: 0.0811 - val_accuracy: 0.9083 - val_loss: 0.3641 - learning_rate: 5.0000e-04\n",
      "Epoch 12/30\n",
      "\u001b[1m60/60\u001b[0m \u001b[32m━━━━━━━━━━━━━━━━━━━━\u001b[0m\u001b[37m\u001b[0m \u001b[1m4s\u001b[0m 66ms/step - accuracy: 0.9858 - loss: 0.0490 - val_accuracy: 0.9000 - val_loss: 0.3739 - learning_rate: 5.0000e-04\n",
      "Epoch 13/30\n",
      "\u001b[1m60/60\u001b[0m \u001b[32m━━━━━━━━━━━━━━━━━━━━\u001b[0m\u001b[37m\u001b[0m \u001b[1m4s\u001b[0m 65ms/step - accuracy: 0.9848 - loss: 0.0484 - val_accuracy: 0.9083 - val_loss: 0.3476 - learning_rate: 5.0000e-04\n",
      "Epoch 14/30\n",
      "\u001b[1m60/60\u001b[0m \u001b[32m━━━━━━━━━━━━━━━━━━━━\u001b[0m\u001b[37m\u001b[0m \u001b[1m4s\u001b[0m 67ms/step - accuracy: 0.9941 - loss: 0.0244 - val_accuracy: 0.9167 - val_loss: 0.3396 - learning_rate: 2.5000e-04\n",
      "Epoch 15/30\n",
      "\u001b[1m60/60\u001b[0m \u001b[32m━━━━━━━━━━━━━━━━━━━━\u001b[0m\u001b[37m\u001b[0m \u001b[1m5s\u001b[0m 75ms/step - accuracy: 0.9938 - loss: 0.0329 - val_accuracy: 0.9125 - val_loss: 0.3521 - learning_rate: 2.5000e-04\n",
      "Epoch 16/30\n",
      "\u001b[1m60/60\u001b[0m \u001b[32m━━━━━━━━━━━━━━━━━━━━\u001b[0m\u001b[37m\u001b[0m \u001b[1m4s\u001b[0m 69ms/step - accuracy: 0.9906 - loss: 0.0348 - val_accuracy: 0.9083 - val_loss: 0.3677 - learning_rate: 2.5000e-04\n",
      "Epoch 17/30\n",
      "\u001b[1m60/60\u001b[0m \u001b[32m━━━━━━━━━━━━━━━━━━━━\u001b[0m\u001b[37m\u001b[0m \u001b[1m4s\u001b[0m 71ms/step - accuracy: 0.9960 - loss: 0.0221 - val_accuracy: 0.9125 - val_loss: 0.3730 - learning_rate: 1.2500e-04\n",
      "Epoch 18/30\n",
      "\u001b[1m60/60\u001b[0m \u001b[32m━━━━━━━━━━━━━━━━━━━━\u001b[0m\u001b[37m\u001b[0m \u001b[1m5s\u001b[0m 85ms/step - accuracy: 0.9992 - loss: 0.0158 - val_accuracy: 0.9125 - val_loss: 0.3998 - learning_rate: 1.2500e-04\n",
      "Epoch 19/30\n",
      "\u001b[1m60/60\u001b[0m \u001b[32m━━━━━━━━━━━━━━━━━━━━\u001b[0m\u001b[37m\u001b[0m \u001b[1m6s\u001b[0m 105ms/step - accuracy: 0.9978 - loss: 0.0155 - val_accuracy: 0.9083 - val_loss: 0.3876 - learning_rate: 1.2500e-04\n",
      "Epoch 20/30\n",
      "\u001b[1m60/60\u001b[0m \u001b[32m━━━━━━━━━━━━━━━━━━━━\u001b[0m\u001b[37m\u001b[0m \u001b[1m6s\u001b[0m 107ms/step - accuracy: 1.0000 - loss: 0.0138 - val_accuracy: 0.9042 - val_loss: 0.3907 - learning_rate: 6.2500e-05\n",
      "Epoch 21/30\n",
      "\u001b[1m60/60\u001b[0m \u001b[32m━━━━━━━━━━━━━━━━━━━━\u001b[0m\u001b[37m\u001b[0m \u001b[1m6s\u001b[0m 105ms/step - accuracy: 0.9990 - loss: 0.0115 - val_accuracy: 0.9000 - val_loss: 0.3950 - learning_rate: 6.2500e-05\n",
      "Epoch 22/30\n",
      "\u001b[1m60/60\u001b[0m \u001b[32m━━━━━━━━━━━━━━━━━━━━\u001b[0m\u001b[37m\u001b[0m \u001b[1m6s\u001b[0m 107ms/step - accuracy: 0.9995 - loss: 0.0158 - val_accuracy: 0.9083 - val_loss: 0.4076 - learning_rate: 6.2500e-05\n",
      "Epoch 23/30\n",
      "\u001b[1m60/60\u001b[0m \u001b[32m━━━━━━━━━━━━━━━━━━━━\u001b[0m\u001b[37m\u001b[0m \u001b[1m6s\u001b[0m 99ms/step - accuracy: 0.9965 - loss: 0.0152 - val_accuracy: 0.9083 - val_loss: 0.4022 - learning_rate: 3.1250e-05\n",
      "Epoch 24/30\n",
      "\u001b[1m60/60\u001b[0m \u001b[32m━━━━━━━━━━━━━━━━━━━━\u001b[0m\u001b[37m\u001b[0m \u001b[1m5s\u001b[0m 84ms/step - accuracy: 0.9973 - loss: 0.0165 - val_accuracy: 0.9042 - val_loss: 0.4067 - learning_rate: 3.1250e-05\n",
      "Epoch 25/30\n",
      "\u001b[1m60/60\u001b[0m \u001b[32m━━━━━━━━━━━━━━━━━━━━\u001b[0m\u001b[37m\u001b[0m \u001b[1m5s\u001b[0m 76ms/step - accuracy: 0.9986 - loss: 0.0129 - val_accuracy: 0.9042 - val_loss: 0.4087 - learning_rate: 3.1250e-05\n",
      "Epoch 26/30\n",
      "\u001b[1m60/60\u001b[0m \u001b[32m━━━━━━━━━━━━━━━━━━━━\u001b[0m\u001b[37m\u001b[0m \u001b[1m4s\u001b[0m 67ms/step - accuracy: 0.9989 - loss: 0.0106 - val_accuracy: 0.9042 - val_loss: 0.4096 - learning_rate: 1.5625e-05\n",
      "Epoch 27/30\n",
      "\u001b[1m60/60\u001b[0m \u001b[32m━━━━━━━━━━━━━━━━━━━━\u001b[0m\u001b[37m\u001b[0m \u001b[1m4s\u001b[0m 74ms/step - accuracy: 0.9945 - loss: 0.0148 - val_accuracy: 0.9042 - val_loss: 0.4098 - learning_rate: 1.5625e-05\n",
      "Epoch 28/30\n",
      "\u001b[1m60/60\u001b[0m \u001b[32m━━━━━━━━━━━━━━━━━━━━\u001b[0m\u001b[37m\u001b[0m \u001b[1m4s\u001b[0m 71ms/step - accuracy: 0.9993 - loss: 0.0130 - val_accuracy: 0.9042 - val_loss: 0.4066 - learning_rate: 1.5625e-05\n",
      "Epoch 29/30\n",
      "\u001b[1m60/60\u001b[0m \u001b[32m━━━━━━━━━━━━━━━━━━━━\u001b[0m\u001b[37m\u001b[0m \u001b[1m4s\u001b[0m 72ms/step - accuracy: 1.0000 - loss: 0.0096 - val_accuracy: 0.9042 - val_loss: 0.4067 - learning_rate: 7.8125e-06\n",
      "Epoch 30/30\n",
      "\u001b[1m60/60\u001b[0m \u001b[32m━━━━━━━━━━━━━━━━━━━━\u001b[0m\u001b[37m\u001b[0m \u001b[1m4s\u001b[0m 71ms/step - accuracy: 0.9950 - loss: 0.0157 - val_accuracy: 0.9000 - val_loss: 0.4059 - learning_rate: 7.8125e-06\n"
     ]
    }
   ],
   "source": [
    "from tensorflow.keras.callbacks import ReduceLROnPlateau\n",
    "\n",
    "reduce_lr = ReduceLROnPlateau(monitor='val_loss', factor=0.5, patience=3, min_lr=1e-6)\n",
    "\n",
    "history = model.fit(\n",
    "    X_train_padded,\n",
    "    y_train,\n",
    "    epochs=30,\n",
    "    batch_size=16,\n",
    "    validation_data=(X_test_padded, y_test),\n",
    "    callbacks=[reduce_lr]\n",
    ")\n"
   ]
  },
  {
   "cell_type": "code",
   "execution_count": 132,
   "metadata": {},
   "outputs": [
    {
     "name": "stdout",
     "output_type": "stream",
     "text": [
      "\u001b[1m8/8\u001b[0m \u001b[32m━━━━━━━━━━━━━━━━━━━━\u001b[0m\u001b[37m\u001b[0m \u001b[1m0s\u001b[0m 18ms/step - accuracy: 0.8930 - loss: 0.4326\n",
      "Độ chính xác trên tập kiểm tra: 90.00%\n"
     ]
    }
   ],
   "source": [
    "# Đánh giá mô hình trên tập kiểm tra\n",
    "loss, accuracy = model.evaluate(X_test_padded, y_test)\n",
    "print(f\"Độ chính xác trên tập kiểm tra: {accuracy * 100:.2f}%\")\n"
   ]
  },
  {
   "cell_type": "code",
   "execution_count": 133,
   "metadata": {},
   "outputs": [
    {
     "name": "stdout",
     "output_type": "stream",
     "text": [
      "\u001b[1m1/1\u001b[0m \u001b[32m━━━━━━━━━━━━━━━━━━━━\u001b[0m\u001b[37m\u001b[0m \u001b[1m0s\u001b[0m 190ms/step\n",
      "Loại câu hỏi: Who\n"
     ]
    }
   ],
   "source": [
    "def predict_question(question):\n",
    "    # Tokenize và pad câu hỏi\n",
    "    sequence = tokenizer.texts_to_sequences([question])\n",
    "    padded_sequence = pad_sequences(sequence, maxlen=max_length, padding='post')\n",
    "    \n",
    "    # Dự đoán\n",
    "    prediction = model.predict(padded_sequence)\n",
    "    predicted_label = label_encoder.inverse_transform([np.argmax(prediction)])\n",
    "    return predicted_label[0]\n",
    "\n",
    "# Dự đoán câu hỏi mới\n",
    "new_question = \"Tôi muốn biết tổng thống nước Mỹ bây giờ là ai?\"\n",
    "print(\"Loại câu hỏi:\", predict_question(new_question))\n"
   ]
  },
  {
   "cell_type": "code",
   "execution_count": 134,
   "metadata": {},
   "outputs": [
    {
     "data": {
      "image/png": "[encoded data removed]",
      "text/plain": [
       "<Figure size 640x480 with 1 Axes>"
      ]
     },
     "metadata": {},
     "output_type": "display_data"
    },
    {
     "data": {
      "image/png": "[encoded data removed]",
      "text/plain": [
       "<Figure size 640x480 with 1 Axes>"
      ]
     },
     "metadata": {},
     "output_type": "display_data"
    }
   ],
   "source": [
    "import matplotlib.pyplot as plt\n",
    "\n",
    "# Vẽ đồ thị accuracy\n",
    "plt.plot(history.history['accuracy'], label='Train Accuracy')\n",
    "plt.plot(history.history['val_accuracy'], label='Validation Accuracy')\n",
    "plt.title('Accuracy')\n",
    "plt.xlabel('Epochs')\n",
    "plt.ylabel('Accuracy')\n",
    "plt.legend()\n",
    "plt.show()\n",
    "\n",
    "# Vẽ đồ thị loss\n",
    "plt.plot(history.history['loss'], label='Train Loss')\n",
    "plt.plot(history.history['val_loss'], label='Validation Loss')\n",
    "plt.title('Loss')\n",
    "plt.xlabel('Epochs')\n",
    "plt.ylabel('Loss')\n",
    "plt.legend()\n",
    "plt.show()\n"
   ]
  },
  {
   "cell_type": "code",
   "execution_count": null,
   "metadata": {},
   "outputs": [],
   "source": [
    "model.save('lstm_fasttext_model.h5')\n",
    "import joblib\n",
    "joblib.dump(tokenizer, 'tokenizer.pkl')\n",
    "joblib.dump(label_encoder, 'label_encoder.pkl')\n"
   ]
  }
 ],
 "metadata": {
  "kernelspec": {
   "display_name": "base",
   "language": "python",
   "name": "python3"
  },
  "language_info": {
   "codemirror_mode": {
    "name": "ipython",
    "version": 3
   },
   "file_extension": ".py",
   "mimetype": "text/x-python",
   "name": "python",
   "nbconvert_exporter": "python",
   "pygments_lexer": "ipython3",
   "version": "3.11.7"
  }
 },
 "nbformat": 4,
 "nbformat_minor": 2
}
