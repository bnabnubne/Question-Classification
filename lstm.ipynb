{
 "cells": [
  {
   "cell_type": "code",
   "execution_count": 1,
   "metadata": {},
   "outputs": [
    {
     "name": "stdout",
     "output_type": "stream",
     "text": [
      "Dữ liệu ban đầu:\n",
      "   STT                                           Question     Label\n",
      "0    1                    Vì sao mèo ăn những vật thể lạ?       Why\n",
      "1    2      Bạn đã chạy được bao nhiêu km trong tuần này?  Quantity\n",
      "2    3  Tôi tính làm tủ áo cánh kính cửa lùa, có nên l...    Yes/No\n",
      "3    4  Cách phòng ngừa và điều trị Búi lông “Hairball...       How\n",
      "4    5  Bạn đã tham gia bao nhiêu buổi tư vấn nghề ngh...  Quantity\n",
      "\n",
      "Các nhãn duy nhất trong dữ liệu:\n",
      "['Why' 'Quantity' 'Yes/No' 'How' 'Who' 'Where' 'What' 'When']\n"
     ]
    }
   ],
   "source": [
    "import pandas as pd\n",
    "from sklearn.model_selection import train_test_split\n",
    "from sklearn.preprocessing import LabelEncoder\n",
    "from tensorflow.keras.preprocessing.text import Tokenizer\n",
    "from tensorflow.keras.preprocessing.sequence import pad_sequences\n",
    "\n",
    "# Đọc file CSV\n",
    "file_path = 'NLP DATASET.csv'  # Đường dẫn tới file CSV của bạn\n",
    "data = pd.read_csv(file_path)\n",
    "# 2. Kiểm tra định dạng dữ liệu\n",
    "print(\"Dữ liệu ban đầu:\")\n",
    "print(data.head())\n",
    "print(\"\\nCác nhãn duy nhất trong dữ liệu:\")\n",
    "print(data['Label'].unique())\n"
   ]
  },
  {
   "cell_type": "code",
   "execution_count": 2,
   "metadata": {},
   "outputs": [],
   "source": [
    "from underthesea import word_tokenize\n",
    "def preprocess_text(text):\n",
    "    text = word_tokenize(text, format=\"text\")  # Tách từ tiếng Việt\n",
    "    text = text.lower()  # Chuyển về chữ thường\n",
    "    return text\n",
    "\n",
    "data['Question'] = data['Question'].apply(preprocess_text)\n",
    "data.to_csv(\"Data/Processed_data/lstm_processed_data\", index=False)"
   ]
  },
  {
   "cell_type": "code",
   "execution_count": 5,
   "metadata": {},
   "outputs": [
    {
     "name": "stdout",
     "output_type": "stream",
     "text": [
      "Số lượng mẫu train: 768\n",
      "Số lượng mẫu test: 240\n",
      "Số lượng mẫu valid: 192\n"
     ]
    }
   ],
   "source": [
    "# Tách dữ liệu thành X (câu hỏi) và y (nhãn)\n",
    "X = data['Question']\n",
    "y = data['Label']\n",
    "\n",
    "\n",
    "# Chia tập dữ liệu thành train và test\n",
    "X_train_full, X_test, y_train_full, y_test = train_test_split(X, y, test_size=0.2, random_state=42)\n",
    "X_train, X_val, y_train, y_val = train_test_split(X_train_full, y_train_full, test_size=0.2, random_state=42)\n",
    "\n",
    "train_data = pd.DataFrame({'Question': X_train, 'Label': y_train})\n",
    "val_data = pd.DataFrame({'Question': X_val, 'Label': y_val})\n",
    "test_data = pd.DataFrame({'Question': X_test, 'Label': y_test})\n",
    "\n",
    "# train_data.to_csv(\"Data/Train_Test_Val/train_data.csv\", index=False)\n",
    "# val_data.to_csv(\"Data/Train_Test_Val/val_data.csv\", index=False)\n",
    "# test_data.to_csv(\"Data/Train_Test_Val/test_data.csv\", index=False)\n",
    "\n",
    "\n",
    "print(\"Số lượng mẫu train:\", len(X_train))\n",
    "print(\"Số lượng mẫu test:\", len(X_test))\n",
    "print(\"Số lượng mẫu valid:\", len(X_val))"
   ]
  },
  {
   "cell_type": "code",
   "execution_count": 8,
   "metadata": {},
   "outputs": [
    {
     "name": "stdout",
     "output_type": "stream",
     "text": [
      "Số lượng từ trong từ điển: 1019\n"
     ]
    }
   ],
   "source": [
    "# Mã hóa nhãn thành số\n",
    "label_encoder = LabelEncoder()\n",
    "y_train_encoded = label_encoder.fit_transform(y_train)\n",
    "y_val_encoded = label_encoder.transform(y_val)\n",
    "y_test_encoded = label_encoder.transform(y_test)\n",
    "\n",
    "# Khởi tạo Tokenizer\n",
    "tokenizer = Tokenizer()\n",
    "tokenizer.fit_on_texts(X_train)\n",
    "\n",
    "# Chuyển văn bản thành chuỗi số\n",
    "X_train_seq = tokenizer.texts_to_sequences(X_train)\n",
    "X_test_seq = tokenizer.texts_to_sequences(X_test)\n",
    "X_val_seq = tokenizer.texts_to_sequences(X_val)\n",
    "\n",
    "# Đệm các chuỗi để có cùng độ dài\n",
    "max_length = 50  # Giới hạn độ dài câu\n",
    "X_train_padded = pad_sequences(X_train_seq, maxlen=max_length, padding='post')\n",
    "X_test_padded = pad_sequences(X_test_seq, maxlen=max_length, padding='post')\n",
    "X_val_padded = pad_sequences(X_val_seq, maxlen=max_length, padding='post')\n",
    "\n",
    "# Kích thước từ điển\n",
    "vocab_size = len(tokenizer.word_index) + 1\n",
    "print(\"Số lượng từ trong từ điển:\", vocab_size)\n"
   ]
  },
  {
   "cell_type": "code",
   "execution_count": 9,
   "metadata": {},
   "outputs": [],
   "source": [
    "import fasttext\n",
    "\n",
    "# Load FastText model từ file .bin\n",
    "model = fasttext.load_model('cc.vi.300.bin')\n"
   ]
  },
  {
   "cell_type": "code",
   "execution_count": 10,
   "metadata": {},
   "outputs": [
    {
     "name": "stdout",
     "output_type": "stream",
     "text": [
      "[-1.22661091e-01  5.53636700e-02  1.41800478e-01  2.95930430e-02\n",
      " -8.27335566e-02 -5.50692640e-02 -4.30196524e-02 -2.86210012e-02\n",
      "  6.81398809e-03 -8.39588344e-02 -5.96411936e-02  1.42467842e-02\n",
      " -1.48809537e-01 -4.79608923e-02 -5.97199649e-02 -3.35736163e-02\n",
      "  8.58044401e-02 -1.00587510e-01 -7.94519261e-02 -8.71512964e-02\n",
      "  2.08056364e-02  2.36146394e-02  8.23296383e-02 -8.33525285e-02\n",
      "  3.77636999e-02  5.23726568e-02  3.54800746e-02 -4.42538597e-02\n",
      "  7.16536939e-02 -1.62647814e-01  7.43294656e-02  1.16684809e-01\n",
      " -7.64077231e-02 -8.51804018e-02 -3.61620262e-02 -9.03779045e-02\n",
      " -1.81313902e-02 -1.05658799e-01  1.35168731e-02  9.71468315e-02\n",
      " -4.03170474e-02  3.45492736e-02 -7.48830661e-02  8.72363336e-03\n",
      "  9.43266004e-02  7.62426257e-02  8.72331560e-02 -2.75415480e-02\n",
      "  1.46978237e-02 -7.19945133e-03  1.11510210e-01 -3.43572088e-02\n",
      "  2.73421183e-02  1.02511436e-01 -1.04237944e-01 -3.46672311e-02\n",
      "  1.58031583e-02 -4.98940386e-02 -2.75668688e-02  8.98529887e-02\n",
      " -4.55422811e-02 -1.39262661e-01  1.34032905e-01  7.23699853e-02\n",
      "  8.33574310e-02  2.24742502e-01  6.00121394e-02 -5.54038994e-02\n",
      "  2.74462998e-01  3.34133096e-02 -1.95262469e-02 -2.88056247e-02\n",
      " -1.62653439e-03 -5.98319992e-03  1.43845588e-01  2.34563112e-01\n",
      "  1.45745993e-01 -1.09102931e-02 -1.47001669e-02 -2.65918672e-02\n",
      "  9.46608093e-03 -8.83763805e-02 -2.92594731e-03 -2.02752709e-01\n",
      " -3.16546932e-02  5.81391305e-02 -1.07495859e-01 -1.34373516e-01\n",
      " -6.42622635e-02 -2.15303153e-02  7.03751221e-02  4.55287211e-02\n",
      " -5.94257340e-02 -6.78192079e-02 -8.84025395e-02  1.54604554e-01\n",
      "  5.87188732e-03  1.34542376e-01  6.24148026e-02 -7.41502941e-02\n",
      "  9.39337611e-02  7.93605447e-02  1.03945971e-01 -4.20582145e-02\n",
      "  5.87784871e-02 -2.39226460e-01 -3.31655852e-02  2.14498535e-01\n",
      "  9.14089382e-03 -1.12494282e-01 -3.07636540e-02  9.05551165e-02\n",
      " -4.44997102e-02 -8.68046284e-02  9.59119275e-02  1.29676461e-02\n",
      "  2.52621551e-03  1.33007437e-01  1.63726270e-01 -5.53703308e-03\n",
      " -8.14834163e-02 -1.02505974e-01 -6.91637248e-02 -4.54330724e-03\n",
      " -8.17141309e-03  6.93959743e-02  2.96184830e-02 -8.21478739e-02\n",
      " -8.27684999e-05  4.60861735e-02 -2.27251649e-03 -7.60997683e-02\n",
      " -1.54623613e-01  8.92658159e-02  1.69519112e-01 -1.17170669e-01\n",
      "  7.78993219e-02  1.61689222e-01  8.03938508e-02 -6.23261603e-03\n",
      " -6.47809207e-02 -1.72758978e-02  6.94228932e-02  3.78602445e-02\n",
      "  8.72167051e-02  9.07401443e-02  1.11339733e-01  2.30660569e-02\n",
      " -1.12214424e-01  3.33626904e-02  8.16752762e-02 -5.03688343e-02\n",
      "  7.09688291e-03 -7.55891874e-02 -3.91749702e-02  6.49773479e-02\n",
      " -2.74462849e-02 -5.27082048e-02 -7.12957755e-02  3.23107094e-02\n",
      " -1.11467969e-02  5.50411604e-02 -1.11454494e-01  9.56094265e-02\n",
      " -8.40863958e-03  3.04314673e-01 -6.00458309e-03 -2.31582031e-01\n",
      " -1.50510758e-01  6.38700798e-02 -9.01627466e-02 -1.47113457e-01\n",
      "  6.71609193e-02 -1.22376397e-01 -1.01157732e-01  1.89898871e-02\n",
      "  6.93979859e-03  1.45240352e-02 -1.38346227e-02  1.20103844e-01\n",
      "  3.33093591e-02 -1.43687055e-01  2.37822115e-01  3.76785062e-02\n",
      "  2.21132979e-01  5.66569865e-02 -8.82382505e-03  5.48256487e-02\n",
      "  4.81799990e-02 -4.97032367e-02  5.43501675e-02  9.60207582e-02\n",
      "  1.31077096e-01 -3.66820768e-02  9.55588445e-02 -1.16369203e-01\n",
      " -4.37511727e-02 -1.35481134e-02  1.99282497e-01 -3.64694856e-02\n",
      " -1.61579028e-01 -3.18182074e-02  1.68432742e-02 -7.09560513e-03\n",
      "  2.27555968e-02 -1.59604400e-02 -2.37128139e-03  1.46424577e-01\n",
      "  4.79778796e-02 -5.12452163e-02 -1.72168016e-02 -5.51616512e-02\n",
      " -2.00812370e-02  4.14224714e-03  6.97771162e-02 -5.50816581e-02\n",
      " -2.96730474e-02 -6.06941096e-02 -1.21627018e-01  7.57496655e-02\n",
      "  1.25773139e-02 -2.47741476e-01  1.45305812e-01  3.08038462e-02\n",
      "  1.05605684e-02 -9.91528481e-03  3.26294079e-02  4.33156639e-03\n",
      "  1.23497080e-02 -9.73078758e-02  9.34973732e-02  3.98645103e-02\n",
      "  7.90601596e-03 -3.84134501e-02  7.32685179e-02  8.04926008e-02\n",
      " -3.82273495e-02  4.96004745e-02 -6.16973899e-02 -1.47786111e-01\n",
      "  1.23246282e-01  2.18558256e-02  3.43487039e-02  3.21154483e-02\n",
      "  7.97723234e-02 -1.00942655e-02 -9.34676901e-02  5.80987707e-02\n",
      " -5.41230701e-02  2.99049858e-02  7.10598230e-02 -1.65362544e-02\n",
      "  1.57811373e-01 -7.55814910e-02 -7.06715509e-03  7.21933246e-02\n",
      " -6.24634176e-02 -2.34070588e-02  4.39388230e-02 -8.07918087e-02\n",
      "  1.30555302e-01 -4.90858741e-02 -1.22196980e-01  1.89606026e-02\n",
      "  3.24608423e-02 -8.37989151e-02  4.89303730e-02  4.31075990e-02\n",
      " -5.70292324e-02 -1.70020759e-03 -3.68243307e-02  1.80572271e-03\n",
      " -2.62219924e-02  8.27039331e-02 -1.88549608e-02 -1.38142984e-02\n",
      " -1.04794949e-01 -1.81634367e-01 -1.06919914e-01 -4.68246266e-02\n",
      "  7.15478510e-03  3.23048234e-02  1.62538767e-01  5.36311418e-03\n",
      " -2.83120163e-02  2.06501652e-02 -7.61728138e-02 -1.28989741e-02\n",
      "  6.04805648e-02 -6.45102635e-02  9.18097794e-02 -2.36842632e-02\n",
      " -1.05439819e-01  1.19787768e-01 -2.27135792e-03 -9.71265137e-04\n",
      " -3.23376618e-02 -6.22935742e-02  5.02124429e-03  1.62393376e-02]\n"
     ]
    }
   ],
   "source": [
    "print(model.get_word_vector('giá'))  # Lấy thử vector của từ \"giá\""
   ]
  },
  {
   "cell_type": "code",
   "execution_count": 11,
   "metadata": {},
   "outputs": [
    {
     "name": "stdout",
     "output_type": "stream",
     "text": [
      "Embedding matrix đã được khởi tạo.\n",
      "Shape của embedding matrix: (1019, 300)\n"
     ]
    }
   ],
   "source": [
    "import numpy as np\n",
    "\n",
    "# Khởi tạo embedding_matrix\n",
    "embedding_matrix = np.zeros((vocab_size, 300))  # vocab_size là kích thước từ điển\n",
    "\n",
    "# Tạo embedding matrix từ FastText\n",
    "for word, idx in tokenizer.word_index.items():\n",
    "    if idx < vocab_size:  # Đảm bảo chỉ số không vượt quá vocab_size\n",
    "        embedding_matrix[idx] = model.get_word_vector(word)\n",
    "\n",
    "print(\"Embedding matrix đã được khởi tạo.\")\n",
    "print(\"Shape của embedding matrix:\", embedding_matrix.shape)\n"
   ]
  },
  {
   "cell_type": "code",
   "execution_count": 12,
   "metadata": {},
   "outputs": [
    {
     "name": "stderr",
     "output_type": "stream",
     "text": [
      "/opt/anaconda3/lib/python3.11/site-packages/keras/src/layers/core/embedding.py:93: UserWarning: Do not pass an `input_shape`/`input_dim` argument to a layer. When using Sequential models, prefer using an `Input(shape)` object as the first layer in the model instead.\n",
      "  super().__init__(**kwargs)\n"
     ]
    },
    {
     "data": {
      "text/html": [
       "<pre style=\"white-space:pre;overflow-x:auto;line-height:normal;font-family:Menlo,'DejaVu Sans Mono',consolas,'Courier New',monospace\"><span style=\"font-weight: bold\">Model: \"sequential\"</span>\n",
       "</pre>\n"
      ],
      "text/plain": [
       "\u001b[1mModel: \"sequential\"\u001b[0m\n"
      ]
     },
     "metadata": {},
     "output_type": "display_data"
    },
    {
     "data": {
      "text/html": [
       "<pre style=\"white-space:pre;overflow-x:auto;line-height:normal;font-family:Menlo,'DejaVu Sans Mono',consolas,'Courier New',monospace\">┏━━━━━━━━━━━━━━━━━━━━━━━━━━━━━━━━━┳━━━━━━━━━━━━━━━━━━━━━━━━┳━━━━━━━━━━━━━━━┓\n",
       "┃<span style=\"font-weight: bold\"> Layer (type)                    </span>┃<span style=\"font-weight: bold\"> Output Shape           </span>┃<span style=\"font-weight: bold\">       Param # </span>┃\n",
       "┡━━━━━━━━━━━━━━━━━━━━━━━━━━━━━━━━━╇━━━━━━━━━━━━━━━━━━━━━━━━╇━━━━━━━━━━━━━━━┩\n",
       "│ embedding (<span style=\"color: #0087ff; text-decoration-color: #0087ff\">Embedding</span>)           │ (<span style=\"color: #00d7ff; text-decoration-color: #00d7ff\">None</span>, <span style=\"color: #00af00; text-decoration-color: #00af00\">50</span>, <span style=\"color: #00af00; text-decoration-color: #00af00\">300</span>)        │       <span style=\"color: #00af00; text-decoration-color: #00af00\">305,700</span> │\n",
       "├─────────────────────────────────┼────────────────────────┼───────────────┤\n",
       "│ bidirectional (<span style=\"color: #0087ff; text-decoration-color: #0087ff\">Bidirectional</span>)   │ (<span style=\"color: #00d7ff; text-decoration-color: #00d7ff\">None</span>, <span style=\"color: #00af00; text-decoration-color: #00af00\">256</span>)            │       <span style=\"color: #00af00; text-decoration-color: #00af00\">439,296</span> │\n",
       "├─────────────────────────────────┼────────────────────────┼───────────────┤\n",
       "│ dropout (<span style=\"color: #0087ff; text-decoration-color: #0087ff\">Dropout</span>)               │ (<span style=\"color: #00d7ff; text-decoration-color: #00d7ff\">None</span>, <span style=\"color: #00af00; text-decoration-color: #00af00\">256</span>)            │             <span style=\"color: #00af00; text-decoration-color: #00af00\">0</span> │\n",
       "├─────────────────────────────────┼────────────────────────┼───────────────┤\n",
       "│ dense (<span style=\"color: #0087ff; text-decoration-color: #0087ff\">Dense</span>)                   │ (<span style=\"color: #00d7ff; text-decoration-color: #00d7ff\">None</span>, <span style=\"color: #00af00; text-decoration-color: #00af00\">64</span>)             │        <span style=\"color: #00af00; text-decoration-color: #00af00\">16,448</span> │\n",
       "├─────────────────────────────────┼────────────────────────┼───────────────┤\n",
       "│ dense_1 (<span style=\"color: #0087ff; text-decoration-color: #0087ff\">Dense</span>)                 │ (<span style=\"color: #00d7ff; text-decoration-color: #00d7ff\">None</span>, <span style=\"color: #00af00; text-decoration-color: #00af00\">8</span>)              │           <span style=\"color: #00af00; text-decoration-color: #00af00\">520</span> │\n",
       "└─────────────────────────────────┴────────────────────────┴───────────────┘\n",
       "</pre>\n"
      ],
      "text/plain": [
       "┏━━━━━━━━━━━━━━━━━━━━━━━━━━━━━━━━━┳━━━━━━━━━━━━━━━━━━━━━━━━┳━━━━━━━━━━━━━━━┓\n",
       "┃\u001b[1m \u001b[0m\u001b[1mLayer (type)                   \u001b[0m\u001b[1m \u001b[0m┃\u001b[1m \u001b[0m\u001b[1mOutput Shape          \u001b[0m\u001b[1m \u001b[0m┃\u001b[1m \u001b[0m\u001b[1m      Param #\u001b[0m\u001b[1m \u001b[0m┃\n",
       "┡━━━━━━━━━━━━━━━━━━━━━━━━━━━━━━━━━╇━━━━━━━━━━━━━━━━━━━━━━━━╇━━━━━━━━━━━━━━━┩\n",
       "│ embedding (\u001b[38;5;33mEmbedding\u001b[0m)           │ (\u001b[38;5;45mNone\u001b[0m, \u001b[38;5;34m50\u001b[0m, \u001b[38;5;34m300\u001b[0m)        │       \u001b[38;5;34m305,700\u001b[0m │\n",
       "├─────────────────────────────────┼────────────────────────┼───────────────┤\n",
       "│ bidirectional (\u001b[38;5;33mBidirectional\u001b[0m)   │ (\u001b[38;5;45mNone\u001b[0m, \u001b[38;5;34m256\u001b[0m)            │       \u001b[38;5;34m439,296\u001b[0m │\n",
       "├─────────────────────────────────┼────────────────────────┼───────────────┤\n",
       "│ dropout (\u001b[38;5;33mDropout\u001b[0m)               │ (\u001b[38;5;45mNone\u001b[0m, \u001b[38;5;34m256\u001b[0m)            │             \u001b[38;5;34m0\u001b[0m │\n",
       "├─────────────────────────────────┼────────────────────────┼───────────────┤\n",
       "│ dense (\u001b[38;5;33mDense\u001b[0m)                   │ (\u001b[38;5;45mNone\u001b[0m, \u001b[38;5;34m64\u001b[0m)             │        \u001b[38;5;34m16,448\u001b[0m │\n",
       "├─────────────────────────────────┼────────────────────────┼───────────────┤\n",
       "│ dense_1 (\u001b[38;5;33mDense\u001b[0m)                 │ (\u001b[38;5;45mNone\u001b[0m, \u001b[38;5;34m8\u001b[0m)              │           \u001b[38;5;34m520\u001b[0m │\n",
       "└─────────────────────────────────┴────────────────────────┴───────────────┘\n"
      ]
     },
     "metadata": {},
     "output_type": "display_data"
    },
    {
     "data": {
      "text/html": [
       "<pre style=\"white-space:pre;overflow-x:auto;line-height:normal;font-family:Menlo,'DejaVu Sans Mono',consolas,'Courier New',monospace\"><span style=\"font-weight: bold\"> Total params: </span><span style=\"color: #00af00; text-decoration-color: #00af00\">761,964</span> (2.91 MB)\n",
       "</pre>\n"
      ],
      "text/plain": [
       "\u001b[1m Total params: \u001b[0m\u001b[38;5;34m761,964\u001b[0m (2.91 MB)\n"
      ]
     },
     "metadata": {},
     "output_type": "display_data"
    },
    {
     "data": {
      "text/html": [
       "<pre style=\"white-space:pre;overflow-x:auto;line-height:normal;font-family:Menlo,'DejaVu Sans Mono',consolas,'Courier New',monospace\"><span style=\"font-weight: bold\"> Trainable params: </span><span style=\"color: #00af00; text-decoration-color: #00af00\">456,264</span> (1.74 MB)\n",
       "</pre>\n"
      ],
      "text/plain": [
       "\u001b[1m Trainable params: \u001b[0m\u001b[38;5;34m456,264\u001b[0m (1.74 MB)\n"
      ]
     },
     "metadata": {},
     "output_type": "display_data"
    },
    {
     "data": {
      "text/html": [
       "<pre style=\"white-space:pre;overflow-x:auto;line-height:normal;font-family:Menlo,'DejaVu Sans Mono',consolas,'Courier New',monospace\"><span style=\"font-weight: bold\"> Non-trainable params: </span><span style=\"color: #00af00; text-decoration-color: #00af00\">305,700</span> (1.17 MB)\n",
       "</pre>\n"
      ],
      "text/plain": [
       "\u001b[1m Non-trainable params: \u001b[0m\u001b[38;5;34m305,700\u001b[0m (1.17 MB)\n"
      ]
     },
     "metadata": {},
     "output_type": "display_data"
    }
   ],
   "source": [
    "from tensorflow.keras.models import Sequential\n",
    "from tensorflow.keras.layers import Embedding, LSTM, Bidirectional, Dense, Dropout\n",
    "from tensorflow.keras.regularizers import l2\n",
    "\n",
    "# Xây dựng mô hình\n",
    "model = Sequential([\n",
    "    Embedding(input_dim=vocab_size, \n",
    "              output_dim=300, \n",
    "              weights=[embedding_matrix], \n",
    "              input_shape=(max_length,),  \n",
    "              trainable=False),\n",
    "    Bidirectional(LSTM(units=128, return_sequences=False)),\n",
    "    Dropout(0.5),\n",
    "    Dense(units=64, activation='relu', kernel_regularizer=l2(0.01)),\n",
    "    Dense(units=8, activation='softmax')\n",
    "])\n",
    "\n",
    "# Compile mô hình\n",
    "model.compile(optimizer='adam', loss='sparse_categorical_crossentropy', metrics=['accuracy'])\n",
    "\n",
    "# Kiểm tra cấu trúc mô hình\n",
    "model.summary()\n",
    "\n",
    "\n"
   ]
  },
  {
   "cell_type": "code",
   "execution_count": 13,
   "metadata": {},
   "outputs": [
    {
     "name": "stdout",
     "output_type": "stream",
     "text": [
      "Epoch 1/30\n",
      "\u001b[1m48/48\u001b[0m \u001b[32m━━━━━━━━━━━━━━━━━━━━\u001b[0m\u001b[37m\u001b[0m \u001b[1m2s\u001b[0m 32ms/step - accuracy: 0.2088 - loss: 2.8657 - val_accuracy: 0.6406 - val_loss: 2.1239 - learning_rate: 0.0010\n",
      "Epoch 2/30\n",
      "\u001b[1m48/48\u001b[0m \u001b[32m━━━━━━━━━━━━━━━━━━━━\u001b[0m\u001b[37m\u001b[0m \u001b[1m1s\u001b[0m 30ms/step - accuracy: 0.5958 - loss: 1.8373 - val_accuracy: 0.7604 - val_loss: 1.1897 - learning_rate: 0.0010\n",
      "Epoch 3/30\n",
      "\u001b[1m48/48\u001b[0m \u001b[32m━━━━━━━━━━━━━━━━━━━━\u001b[0m\u001b[37m\u001b[0m \u001b[1m2s\u001b[0m 44ms/step - accuracy: 0.7448 - loss: 1.1185 - val_accuracy: 0.8073 - val_loss: 0.9605 - learning_rate: 0.0010\n",
      "Epoch 4/30\n",
      "\u001b[1m48/48\u001b[0m \u001b[32m━━━━━━━━━━━━━━━━━━━━\u001b[0m\u001b[37m\u001b[0m \u001b[1m2s\u001b[0m 46ms/step - accuracy: 0.8264 - loss: 0.8586 - val_accuracy: 0.8385 - val_loss: 0.7524 - learning_rate: 0.0010\n",
      "Epoch 5/30\n",
      "\u001b[1m48/48\u001b[0m \u001b[32m━━━━━━━━━━━━━━━━━━━━\u001b[0m\u001b[37m\u001b[0m \u001b[1m2s\u001b[0m 48ms/step - accuracy: 0.8795 - loss: 0.6909 - val_accuracy: 0.8698 - val_loss: 0.6867 - learning_rate: 0.0010\n",
      "Epoch 6/30\n",
      "\u001b[1m48/48\u001b[0m \u001b[32m━━━━━━━━━━━━━━━━━━━━\u001b[0m\u001b[37m\u001b[0m \u001b[1m2s\u001b[0m 52ms/step - accuracy: 0.9172 - loss: 0.5308 - val_accuracy: 0.7812 - val_loss: 0.8032 - learning_rate: 0.0010\n",
      "Epoch 7/30\n",
      "\u001b[1m48/48\u001b[0m \u001b[32m━━━━━━━━━━━━━━━━━━━━\u001b[0m\u001b[37m\u001b[0m \u001b[1m2s\u001b[0m 49ms/step - accuracy: 0.9100 - loss: 0.5045 - val_accuracy: 0.8385 - val_loss: 0.6477 - learning_rate: 0.0010\n",
      "Epoch 8/30\n",
      "\u001b[1m48/48\u001b[0m \u001b[32m━━━━━━━━━━━━━━━━━━━━\u001b[0m\u001b[37m\u001b[0m \u001b[1m2s\u001b[0m 46ms/step - accuracy: 0.8774 - loss: 0.5096 - val_accuracy: 0.8698 - val_loss: 0.5885 - learning_rate: 0.0010\n",
      "Epoch 9/30\n",
      "\u001b[1m48/48\u001b[0m \u001b[32m━━━━━━━━━━━━━━━━━━━━\u001b[0m\u001b[37m\u001b[0m \u001b[1m2s\u001b[0m 50ms/step - accuracy: 0.9427 - loss: 0.3710 - val_accuracy: 0.8750 - val_loss: 0.5759 - learning_rate: 0.0010\n",
      "Epoch 10/30\n",
      "\u001b[1m48/48\u001b[0m \u001b[32m━━━━━━━━━━━━━━━━━━━━\u001b[0m\u001b[37m\u001b[0m \u001b[1m2s\u001b[0m 47ms/step - accuracy: 0.9499 - loss: 0.3455 - val_accuracy: 0.8229 - val_loss: 0.7112 - learning_rate: 0.0010\n",
      "Epoch 11/30\n",
      "\u001b[1m48/48\u001b[0m \u001b[32m━━━━━━━━━━━━━━━━━━━━\u001b[0m\u001b[37m\u001b[0m \u001b[1m2s\u001b[0m 49ms/step - accuracy: 0.9342 - loss: 0.3371 - val_accuracy: 0.8646 - val_loss: 0.5447 - learning_rate: 0.0010\n",
      "Epoch 12/30\n",
      "\u001b[1m48/48\u001b[0m \u001b[32m━━━━━━━━━━━━━━━━━━━━\u001b[0m\u001b[37m\u001b[0m \u001b[1m2s\u001b[0m 51ms/step - accuracy: 0.9546 - loss: 0.2878 - val_accuracy: 0.8854 - val_loss: 0.5406 - learning_rate: 0.0010\n",
      "Epoch 13/30\n",
      "\u001b[1m48/48\u001b[0m \u001b[32m━━━━━━━━━━━━━━━━━━━━\u001b[0m\u001b[37m\u001b[0m \u001b[1m2s\u001b[0m 51ms/step - accuracy: 0.9726 - loss: 0.2366 - val_accuracy: 0.8646 - val_loss: 0.5428 - learning_rate: 0.0010\n",
      "Epoch 14/30\n",
      "\u001b[1m48/48\u001b[0m \u001b[32m━━━━━━━━━━━━━━━━━━━━\u001b[0m\u001b[37m\u001b[0m \u001b[1m2s\u001b[0m 51ms/step - accuracy: 0.9774 - loss: 0.2291 - val_accuracy: 0.8698 - val_loss: 0.5279 - learning_rate: 0.0010\n",
      "Epoch 15/30\n",
      "\u001b[1m48/48\u001b[0m \u001b[32m━━━━━━━━━━━━━━━━━━━━\u001b[0m\u001b[37m\u001b[0m \u001b[1m2s\u001b[0m 48ms/step - accuracy: 0.9825 - loss: 0.2006 - val_accuracy: 0.8646 - val_loss: 0.5560 - learning_rate: 0.0010\n",
      "Epoch 16/30\n",
      "\u001b[1m48/48\u001b[0m \u001b[32m━━━━━━━━━━━━━━━━━━━━\u001b[0m\u001b[37m\u001b[0m \u001b[1m2s\u001b[0m 49ms/step - accuracy: 0.9810 - loss: 0.1755 - val_accuracy: 0.8646 - val_loss: 0.5134 - learning_rate: 0.0010\n",
      "Epoch 17/30\n",
      "\u001b[1m48/48\u001b[0m \u001b[32m━━━━━━━━━━━━━━━━━━━━\u001b[0m\u001b[37m\u001b[0m \u001b[1m2s\u001b[0m 51ms/step - accuracy: 0.9816 - loss: 0.1802 - val_accuracy: 0.8854 - val_loss: 0.5115 - learning_rate: 0.0010\n",
      "Epoch 18/30\n",
      "\u001b[1m48/48\u001b[0m \u001b[32m━━━━━━━━━━━━━━━━━━━━\u001b[0m\u001b[37m\u001b[0m \u001b[1m2s\u001b[0m 45ms/step - accuracy: 0.9919 - loss: 0.1379 - val_accuracy: 0.8854 - val_loss: 0.5200 - learning_rate: 0.0010\n",
      "Epoch 19/30\n",
      "\u001b[1m48/48\u001b[0m \u001b[32m━━━━━━━━━━━━━━━━━━━━\u001b[0m\u001b[37m\u001b[0m \u001b[1m2s\u001b[0m 46ms/step - accuracy: 0.9892 - loss: 0.1500 - val_accuracy: 0.8958 - val_loss: 0.4634 - learning_rate: 0.0010\n",
      "Epoch 20/30\n",
      "\u001b[1m48/48\u001b[0m \u001b[32m━━━━━━━━━━━━━━━━━━━━\u001b[0m\u001b[37m\u001b[0m \u001b[1m2s\u001b[0m 50ms/step - accuracy: 0.9918 - loss: 0.1217 - val_accuracy: 0.9010 - val_loss: 0.4728 - learning_rate: 0.0010\n",
      "Epoch 21/30\n",
      "\u001b[1m48/48\u001b[0m \u001b[32m━━━━━━━━━━━━━━━━━━━━\u001b[0m\u001b[37m\u001b[0m \u001b[1m2s\u001b[0m 48ms/step - accuracy: 0.9882 - loss: 0.1132 - val_accuracy: 0.8698 - val_loss: 0.5082 - learning_rate: 0.0010\n",
      "Epoch 22/30\n",
      "\u001b[1m48/48\u001b[0m \u001b[32m━━━━━━━━━━━━━━━━━━━━\u001b[0m\u001b[37m\u001b[0m \u001b[1m3s\u001b[0m 52ms/step - accuracy: 0.9991 - loss: 0.0990 - val_accuracy: 0.8542 - val_loss: 0.5570 - learning_rate: 0.0010\n"
     ]
    }
   ],
   "source": [
    "from tensorflow.keras.callbacks import EarlyStopping, ReduceLROnPlateau\n",
    "\n",
    "early_stopping = EarlyStopping(monitor='val_loss', patience=3, restore_best_weights=True)\n",
    "reduce_lr = ReduceLROnPlateau(monitor='val_loss', factor=0.5, patience=3, min_lr=1e-6)\n",
    "\n",
    "history = model.fit(\n",
    "    X_train_padded,\n",
    "    y_train_encoded,\n",
    "    epochs=30,\n",
    "    batch_size=16,\n",
    "    validation_data=(X_val_padded, y_val_encoded),\n",
    "    callbacks=[reduce_lr,early_stopping]\n",
    "    \n",
    ")\n"
   ]
  },
  {
   "cell_type": "code",
   "execution_count": 14,
   "metadata": {},
   "outputs": [
    {
     "name": "stdout",
     "output_type": "stream",
     "text": [
      "\u001b[1m8/8\u001b[0m \u001b[32m━━━━━━━━━━━━━━━━━━━━\u001b[0m\u001b[37m\u001b[0m \u001b[1m0s\u001b[0m 14ms/step - accuracy: 0.8581 - loss: 0.5615\n",
      "Độ chính xác trên tập kiểm tra: 87.08%\n"
     ]
    }
   ],
   "source": [
    "# Đánh giá mô hình trên tập kiểm tra\n",
    "loss, accuracy = model.evaluate(X_test_padded, y_test_encoded)\n",
    "print(f\"Độ chính xác trên tập kiểm tra: {accuracy * 100:.2f}%\")\n"
   ]
  },
  {
   "cell_type": "code",
   "execution_count": 15,
   "metadata": {},
   "outputs": [
    {
     "name": "stdout",
     "output_type": "stream",
     "text": [
      "\u001b[1m1/1\u001b[0m \u001b[32m━━━━━━━━━━━━━━━━━━━━\u001b[0m\u001b[37m\u001b[0m \u001b[1m0s\u001b[0m 117ms/step\n",
      "Loại câu hỏi: Who\n"
     ]
    }
   ],
   "source": [
    "def predict_question(question):\n",
    "    # Tokenize và pad câu hỏi\n",
    "    sequence = tokenizer.texts_to_sequences([question])\n",
    "    padded_sequence = pad_sequences(sequence, maxlen=max_length, padding='post')\n",
    "    \n",
    "    # Dự đoán\n",
    "    prediction = model.predict(padded_sequence)\n",
    "    predicted_label = label_encoder.inverse_transform([np.argmax(prediction)])\n",
    "    return predicted_label[0]\n",
    "\n",
    "# Dự đoán câu hỏi mới\n",
    "new_question = \"Tôi muốn biết tổng thống nước Mỹ bây giờ là ai?\"\n",
    "print(\"Loại câu hỏi:\", predict_question(new_question))\n"
   ]
  },
  {
   "cell_type": "code",
   "execution_count": 16,
   "metadata": {},
   "outputs": [
    {
     "data": {
      "image/png": "[encoded data removed]",
      "text/plain": [
       "<Figure size 640x480 with 1 Axes>"
      ]
     },
     "metadata": {},
     "output_type": "display_data"
    },
    {
     "data": {
      "image/png": "[encoded data removed]",
      "text/plain": [
       "<Figure size 640x480 with 1 Axes>"
      ]
     },
     "metadata": {},
     "output_type": "display_data"
    }
   ],
   "source": [
    "import matplotlib.pyplot as plt\n",
    "\n",
    "# Vẽ đồ thị accuracy\n",
    "plt.plot(history.history['accuracy'], label='Train Accuracy')\n",
    "plt.plot(history.history['val_accuracy'], label='Validation Accuracy')\n",
    "plt.title('Accuracy')\n",
    "plt.xlabel('Epochs')\n",
    "plt.ylabel('Accuracy')\n",
    "plt.legend()\n",
    "plt.show()\n",
    "\n",
    "# Vẽ đồ thị loss\n",
    "plt.plot(history.history['loss'], label='Train Loss')\n",
    "plt.plot(history.history['val_loss'], label='Validation Loss')\n",
    "plt.title('Loss')\n",
    "plt.xlabel('Epochs')\n",
    "plt.ylabel('Loss')\n",
    "plt.legend()\n",
    "plt.show()\n"
   ]
  },
  {
   "cell_type": "code",
   "execution_count": 17,
   "metadata": {},
   "outputs": [
    {
     "name": "stderr",
     "output_type": "stream",
     "text": [
      "WARNING:absl:You are saving your model as an HDF5 file via `model.save()` or `keras.saving.save_model(model)`. This file format is considered legacy. We recommend using instead the native Keras format, e.g. `model.save('my_model.keras')` or `keras.saving.save_model(model, 'my_model.keras')`. \n"
     ]
    },
    {
     "data": {
      "text/plain": [
       "['label_encoder.pkl']"
      ]
     },
     "execution_count": 17,
     "metadata": {},
     "output_type": "execute_result"
    }
   ],
   "source": [
    "model.save('lstm_fasttext_model.h5')\n",
    "import joblib\n",
    "joblib.dump(tokenizer, 'tokenizer.pkl')\n",
    "joblib.dump(label_encoder, 'label_encoder.pkl')\n"
   ]
  }
 ],
 "metadata": {
  "kernelspec": {
   "display_name": "base",
   "language": "python",
   "name": "python3"
  },
  "language_info": {
   "codemirror_mode": {
    "name": "ipython",
    "version": 3
   },
   "file_extension": ".py",
   "mimetype": "text/x-python",
   "name": "python",
   "nbconvert_exporter": "python",
   "pygments_lexer": "ipython3",
   "version": "3.11.7"
  }
 },
 "nbformat": 4,
 "nbformat_minor": 2
}
