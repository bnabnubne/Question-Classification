{
 "cells": [
  {
   "cell_type": "code",
   "execution_count": 30,
   "metadata": {},
   "outputs": [
    {
     "name": "stdout",
     "output_type": "stream",
     "text": [
      "   STT                                           Question     Label\n",
      "0    1                    Vì sao mèo ăn những vật thể lạ?       Why\n",
      "1    2      Bạn đã chạy được bao nhiêu km trong tuần này?  Quantity\n",
      "2    3  Tôi tính làm tủ áo cánh kính cửa lùa, có nên l...    Yes/No\n",
      "3    4  Cách phòng ngừa và điều trị Búi lông “Hairball...       How\n",
      "4    5  Bạn đã tham gia bao nhiêu buổi tư vấn nghề ngh...  Quantity\n"
     ]
    }
   ],
   "source": [
    "import pandas as pd\n",
    "from sklearn.model_selection import train_test_split\n",
    "\n",
    "# Đọc dữ liệu từ file CSV\n",
    "data = pd.read_csv(\"NLP DATASET.csv\") \n",
    "print(data.head())\n"
   ]
  },
  {
   "cell_type": "code",
   "execution_count": 31,
   "metadata": {},
   "outputs": [],
   "source": [
    "from transformers import AutoTokenizer, AutoModelForSequenceClassification, AdamW\n",
    "tokenizer = AutoTokenizer.from_pretrained(\"vinai/phobert-base\", use_fast=False)\n",
    "def tokenize_data(texts, tokenizer, max_length=128):\n",
    "    input_ids_list = []\n",
    "    attention_masks_list = []\n",
    "\n",
    "    for text in texts:\n",
    "        encoded = tokenizer.encode_plus(\n",
    "            text,\n",
    "            max_length=max_length,\n",
    "            padding='max_length',\n",
    "            truncation=True,\n",
    "            return_attention_mask=True\n",
    "        )\n",
    "        input_ids_list.append(encoded['input_ids'])\n",
    "        attention_masks_list.append(encoded['attention_mask'])\n",
    "\n",
    "    return input_ids_list, attention_masks_list\n",
    "\n",
    "# Mã hóa câu hỏi\n",
    "input_ids, attention_masks = tokenize_data(data['Question'], tokenizer)\n",
    "\n",
    "# Tạo DataFrame đã xử lý\n",
    "processed_data = pd.DataFrame({\n",
    "    'Question': data['Question'],   # Câu hỏi gốc\n",
    "    'Label': data['Label'],         # Nhãn\n",
    "    'Input_Ids': [str(ids) for ids in input_ids],  # Mã hóa input_ids\n",
    "    'Attention_Mask': [str(mask) for mask in attention_masks]  # Mã hóa attention_mask\n",
    "})\n",
    "\n",
    "# Lưu processed data\n",
    "processed_data.to_csv(\"Data/Processed_Data/transformer_processed_dataset.csv\", index=False)"
   ]
  },
  {
   "cell_type": "code",
   "execution_count": 32,
   "metadata": {},
   "outputs": [],
   "source": [
    "# Chia dữ liệu thành train, test, val\n",
    "X = data['Question']\n",
    "y = data['Label']\n",
    "# Chia dữ liệu thành train (80%) và test (20%)\n",
    "X_train_full, X_test, y_train_full, y_test = train_test_split(X, y, test_size=0.2, random_state=42)\n",
    "\n",
    "# Chia tiếp train_full thành train (80%) và validation (20%)\n",
    "X_train, X_val, y_train, y_val = train_test_split(X_train_full, y_train_full, test_size=0.2, random_state=42)\n",
    "\n",
    "# Lưu từng tập vào file CSV\n",
    "train_data = pd.DataFrame({'Question': X_train, 'Label': y_train})\n",
    "val_data = pd.DataFrame({'Question': X_val, 'Label': y_val})\n",
    "test_data = pd.DataFrame({'Question': X_test, 'Label': y_test})\n",
    "\n",
    "train_data.to_csv(\"Data/Train_Test_Val/train_data.csv\", index=False)\n",
    "val_data.to_csv(\"Data/Train_Test_Val/val_data.csv\", index=False)\n",
    "test_data.to_csv(\"Data/Train_Test_Val/test_data.csv\", index=False)\n"
   ]
  },
  {
   "cell_type": "code",
   "execution_count": 33,
   "metadata": {},
   "outputs": [],
   "source": [
    "from torch.utils.data import DataLoader, Dataset\n",
    "import torch\n",
    "from sklearn.preprocessing import LabelEncoder\n",
    "\n",
    "# Mã hóa nhãn\n",
    "label_encoder = LabelEncoder()\n",
    "y_train_encoded = label_encoder.fit_transform(y_train).tolist()  # Chuyển sang list\n",
    "y_val_encoded = label_encoder.transform(y_val).tolist()  # Chuyển sang list\n",
    "y_test_encoded = label_encoder.transform(y_test).tolist()  # Chuyển sang list\n",
    "\n",
    "# Tạo CustomDataset\n",
    "class CustomDataset(Dataset):\n",
    "    def __init__(self, texts, labels, tokenizer, max_length):\n",
    "        self.texts = texts.tolist() \n",
    "        self.labels = labels\n",
    "        self.tokenizer = tokenizer\n",
    "        self.max_length = max_length\n",
    "\n",
    "    def __len__(self):\n",
    "        return len(self.texts)\n",
    "\n",
    "    def __getitem__(self, idx):\n",
    "        text = self.texts[idx]  # Truy cập bằng index\n",
    "        label = self.labels[idx]  \n",
    "\n",
    "        encoded = self.tokenizer.encode_plus(\n",
    "            text,\n",
    "            max_length=self.max_length,\n",
    "            padding=\"max_length\",\n",
    "            truncation=True,\n",
    "            return_tensors=\"pt\"\n",
    "        )\n",
    "        return {\n",
    "            'input_ids': encoded['input_ids'].squeeze(0),\n",
    "            'attention_mask': encoded['attention_mask'].squeeze(0),\n",
    "            'label': torch.tensor(label, dtype=torch.long)\n",
    "        }\n",
    "\n",
    "train_dataset = CustomDataset(X_train, y_train_encoded, tokenizer, max_length=128)\n",
    "val_dataset = CustomDataset(X_val, y_val_encoded, tokenizer, max_length=128)\n",
    "test_dataset = CustomDataset(X_test, y_test_encoded, tokenizer, max_length=128)\n"
   ]
  },
  {
   "cell_type": "code",
   "execution_count": 34,
   "metadata": {},
   "outputs": [
    {
     "name": "stderr",
     "output_type": "stream",
     "text": [
      "Some weights of RobertaForSequenceClassification were not initialized from the model checkpoint at vinai/phobert-base and are newly initialized: ['classifier.dense.bias', 'classifier.dense.weight', 'classifier.out_proj.bias', 'classifier.out_proj.weight']\n",
      "You should probably TRAIN this model on a down-stream task to be able to use it for predictions and inference.\n",
      "/opt/anaconda3/lib/python3.11/site-packages/transformers/optimization.py:591: FutureWarning: This implementation of AdamW is deprecated and will be removed in a future version. Use the PyTorch implementation torch.optim.AdamW instead, or set `no_deprecation_warning=True` to disable this warning\n",
      "  warnings.warn(\n"
     ]
    }
   ],
   "source": [
    "model = AutoModelForSequenceClassification.from_pretrained(\"vinai/phobert-base\", num_labels=len(y.unique()))\n",
    "device = torch.device(\"cuda\" if torch.cuda.is_available() else \"cpu\")\n",
    "model.to(device)\n",
    "\n",
    "optimizer = AdamW(model.parameters(), lr=5e-5)"
   ]
  },
  {
   "cell_type": "code",
   "execution_count": 35,
   "metadata": {},
   "outputs": [
    {
     "name": "stdout",
     "output_type": "stream",
     "text": [
      "Epoch 1/3, Loss: 1.601935097326835\n",
      "Epoch 2/3, Loss: 0.4420412291462223\n",
      "Epoch 3/3, Loss: 0.17092936299741268\n"
     ]
    }
   ],
   "source": [
    "from torch.utils.data import DataLoader\n",
    "from transformers import AdamW\n",
    "\n",
    "# DataLoader\n",
    "train_loader = DataLoader(train_dataset, batch_size=16, shuffle=True)\n",
    "val_loader = DataLoader(val_dataset, batch_size=16)\n",
    "test_loader = DataLoader(test_dataset, batch_size=16)\n",
    "\n",
    "# Huấn luyện mô hình\n",
    "epochs = 3\n",
    "for epoch in range(epochs):\n",
    "    model.train()\n",
    "    total_loss = 0\n",
    "    for batch in train_loader:\n",
    "        optimizer.zero_grad()\n",
    "\n",
    "        input_ids = batch['input_ids'].to(device)\n",
    "        attention_mask = batch['attention_mask'].to(device)\n",
    "        labels = batch['label'].to(device)\n",
    "\n",
    "        outputs = model(input_ids=input_ids, attention_mask=attention_mask, labels=labels)\n",
    "        loss = outputs.loss\n",
    "        total_loss += loss.item()\n",
    "\n",
    "        loss.backward()\n",
    "        optimizer.step()\n",
    "\n",
    "    print(f\"Epoch {epoch+1}/{epochs}, Loss: {total_loss / len(train_loader)}\")\n",
    "\n"
   ]
  },
  {
   "cell_type": "code",
   "execution_count": 36,
   "metadata": {},
   "outputs": [
    {
     "name": "stdout",
     "output_type": "stream",
     "text": [
      "              precision    recall  f1-score   support\n",
      "\n",
      "         Why       0.93      0.95      0.94        40\n",
      "    Quantity       1.00      1.00      1.00        27\n",
      "      Yes/No       1.00      0.81      0.90        27\n",
      "         How       0.97      0.97      0.97        34\n",
      "         Who       0.97      1.00      0.98        31\n",
      "       Where       1.00      1.00      1.00        33\n",
      "        What       0.93      1.00      0.96        25\n",
      "        When       0.92      0.96      0.94        23\n",
      "\n",
      "    accuracy                           0.96       240\n",
      "   macro avg       0.96      0.96      0.96       240\n",
      "weighted avg       0.96      0.96      0.96       240\n",
      "\n"
     ]
    }
   ],
   "source": [
    "from sklearn.metrics import classification_report\n",
    "model.eval()\n",
    "y_true = []\n",
    "y_pred = []\n",
    "\n",
    "with torch.no_grad():\n",
    "    for batch in test_loader:\n",
    "        input_ids = batch['input_ids'].to(device)\n",
    "        attention_mask = batch['attention_mask'].to(device)\n",
    "        labels = batch['label'].to(device)\n",
    "\n",
    "        outputs = model(input_ids=input_ids, attention_mask=attention_mask)\n",
    "        logits = outputs.logits\n",
    "        predictions = torch.argmax(logits, dim=-1)\n",
    "\n",
    "        y_true.extend(labels.cpu().numpy())\n",
    "        y_pred.extend(predictions.cpu().numpy())\n",
    "\n",
    "print(classification_report(y_true, y_pred, target_names=y.unique()))"
   ]
  },
  {
   "cell_type": "code",
   "execution_count": 37,
   "metadata": {},
   "outputs": [
    {
     "name": "stdout",
     "output_type": "stream",
     "text": [
      "Câu hỏi: Tôi muốn biết tổng thống Hàn Quốc bây giờ là ai?\n",
      "Loại câu hỏi dự đoán: Who\n"
     ]
    }
   ],
   "source": [
    "def predict_question(question, model, tokenizer, label_encoder):\n",
    "    model.eval()\n",
    "    encoding = tokenizer(question, return_tensors=\"pt\", truncation=True, padding=True, max_length=50)\n",
    "    input_ids = encoding['input_ids'].to(device)\n",
    "    attention_mask = encoding['attention_mask'].to(device)\n",
    "\n",
    "    with torch.no_grad():\n",
    "        outputs = model(input_ids=input_ids, attention_mask=attention_mask)\n",
    "        logits = outputs.logits\n",
    "        prediction = torch.argmax(logits, dim=1).cpu().numpy()\n",
    "\n",
    "    return label_encoder.inverse_transform(prediction)[0]\n",
    "\n",
    "# Ví dụ dự đoán\n",
    "new_question = \"Tôi muốn biết tổng thống Hàn Quốc bây giờ là ai?\"\n",
    "predicted_label = predict_question(new_question, model, tokenizer, label_encoder)\n",
    "print(f\"Câu hỏi: {new_question}\")\n",
    "print(f\"Loại câu hỏi dự đoán: {predicted_label}\")\n"
   ]
  }
 ],
 "metadata": {
  "kernelspec": {
   "display_name": "base",
   "language": "python",
   "name": "python3"
  },
  "language_info": {
   "codemirror_mode": {
    "name": "ipython",
    "version": 3
   },
   "file_extension": ".py",
   "mimetype": "text/x-python",
   "name": "python",
   "nbconvert_exporter": "python",
   "pygments_lexer": "ipython3",
   "version": "3.11.7"
  }
 },
 "nbformat": 4,
 "nbformat_minor": 2
}
