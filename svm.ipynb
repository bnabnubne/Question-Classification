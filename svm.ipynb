{
 "cells": [
  {
   "cell_type": "code",
   "execution_count": 1,
   "metadata": {},
   "outputs": [
    {
     "name": "stdout",
     "output_type": "stream",
     "text": [
      "   STT                                           Question     Label  \\\n",
      "0    1                    Vì sao mèo ăn những vật thể lạ?       Why   \n",
      "1    2      Bạn đã chạy được bao nhiêu km trong tuần này?  Quantity   \n",
      "2    3  Tôi tính làm tủ áo cánh kính cửa lùa, có nên l...    Yes/No   \n",
      "3    4  Cách phòng ngừa và điều trị Búi lông “Hairball...       How   \n",
      "4    5  Bạn đã tham gia bao nhiêu buổi tư vấn nghề ngh...  Quantity   \n",
      "\n",
      "                                  processed_question  \n",
      "0                     vì sao mèo ăn những vật thể lạ  \n",
      "1       bạn đã chạy được bao nhiêu km trong tuần này  \n",
      "2  tôi tính làm tủ áo cánh kính cửa lùa có nên là...  \n",
      "3  cách phòng ngừa và điều trị búi lông hairball ...  \n",
      "4  bạn đã tham gia bao nhiêu buổi tư vấn nghề ngh...  \n"
     ]
    }
   ],
   "source": [
    "import pandas as pd\n",
    "import re\n",
    "from underthesea import word_tokenize\n",
    "\n",
    "# Đọc dữ liệu từ file CSV\n",
    "file_path = 'NLP DATASET.csv'  # Đường dẫn đến file của bạn\n",
    "data = pd.read_csv(file_path)\n",
    "\n",
    "# Hàm tiền xử lý câu hỏi\n",
    "def preprocess_text(text):\n",
    "    text = text.lower()  # Chuyển về chữ thường\n",
    "    text = re.sub(r'[^\\w\\s]', '', text)  # Loại bỏ dấu câu và ký tự đặc biệt\n",
    "    tokens = word_tokenize(text)  # Tách từ bằng Underthesea\n",
    "    return ' '.join(tokens)\n",
    "\n",
    "# Áp dụng tiền xử lý cho cột Question\n",
    "data['processed_question'] = data['Question'].apply(preprocess_text)\n",
    "data.to_csv(\"Data/Processed_data/svm_processed_data\", index=False)\n",
    "# Kiểm tra kết quả\n",
    "print(data.head())\n"
   ]
  },
  {
   "cell_type": "code",
   "execution_count": 4,
   "metadata": {},
   "outputs": [
    {
     "name": "stdout",
     "output_type": "stream",
     "text": [
      "Shape của vector TF-IDF (train): (768, 1006)\n"
     ]
    }
   ],
   "source": [
    "from sklearn.feature_extraction.text import TfidfVectorizer\n",
    "from sklearn.model_selection import train_test_split\n",
    "\n",
    "# Tách dữ liệu\n",
    "X = data['processed_question']\n",
    "y = data['Label']\n",
    "\n",
    "# Chia tập dữ liệu thành train và test\n",
    "X_train_full, X_test, y_train_full, y_test = train_test_split(X, y, test_size=0.2, random_state=42)\n",
    "X_train, X_val, y_train, y_val = train_test_split(X_train_full, y_train_full, test_size=0.2, random_state=42)\n",
    "\n",
    "train_data = pd.DataFrame({'Question': X_train, 'Label': y_train})\n",
    "val_data = pd.DataFrame({'Question': X_val, 'Label': y_val})\n",
    "test_data = pd.DataFrame({'Question': X_test, 'Label': y_test})\n",
    "\n",
    "# train_data.to_csv(\"Data/Train_Test_Val/train_data.csv\", index=False)\n",
    "# val_data.to_csv(\"Data/Train_Test_Val/val_data.csv\", index=False)\n",
    "# test_data.to_csv(\"Data/Train_Test_Val/test_data.csv\", index=False)\n",
    "\n",
    "# Trích xuất đặc trưng TF-IDF\n",
    "vectorizer = TfidfVectorizer(max_features=5000)  # Giới hạn số lượng đặc trưng\n",
    "X_train_tfidf = vectorizer.fit_transform(X_train)\n",
    "X_val_tfidf = vectorizer.transform(X_val)\n",
    "X_test_tfidf = vectorizer.transform(X_test)\n",
    "\n",
    "print(\"Shape của vector TF-IDF (train):\", X_train_tfidf.shape)\n"
   ]
  },
  {
   "cell_type": "code",
   "execution_count": 9,
   "metadata": {},
   "outputs": [
    {
     "data": {
      "text/html": [
       "<style>#sk-container-id-1 {color: black;background-color: white;}#sk-container-id-1 pre{padding: 0;}#sk-container-id-1 div.sk-toggleable {background-color: white;}#sk-container-id-1 label.sk-toggleable__label {cursor: pointer;display: block;width: 100%;margin-bottom: 0;padding: 0.3em;box-sizing: border-box;text-align: center;}#sk-container-id-1 label.sk-toggleable__label-arrow:before {content: \"▸\";float: left;margin-right: 0.25em;color: #696969;}#sk-container-id-1 label.sk-toggleable__label-arrow:hover:before {color: black;}#sk-container-id-1 div.sk-estimator:hover label.sk-toggleable__label-arrow:before {color: black;}#sk-container-id-1 div.sk-toggleable__content {max-height: 0;max-width: 0;overflow: hidden;text-align: left;background-color: #f0f8ff;}#sk-container-id-1 div.sk-toggleable__content pre {margin: 0.2em;color: black;border-radius: 0.25em;background-color: #f0f8ff;}#sk-container-id-1 input.sk-toggleable__control:checked~div.sk-toggleable__content {max-height: 200px;max-width: 100%;overflow: auto;}#sk-container-id-1 input.sk-toggleable__control:checked~label.sk-toggleable__label-arrow:before {content: \"▾\";}#sk-container-id-1 div.sk-estimator input.sk-toggleable__control:checked~label.sk-toggleable__label {background-color: #d4ebff;}#sk-container-id-1 div.sk-label input.sk-toggleable__control:checked~label.sk-toggleable__label {background-color: #d4ebff;}#sk-container-id-1 input.sk-hidden--visually {border: 0;clip: rect(1px 1px 1px 1px);clip: rect(1px, 1px, 1px, 1px);height: 1px;margin: -1px;overflow: hidden;padding: 0;position: absolute;width: 1px;}#sk-container-id-1 div.sk-estimator {font-family: monospace;background-color: #f0f8ff;border: 1px dotted black;border-radius: 0.25em;box-sizing: border-box;margin-bottom: 0.5em;}#sk-container-id-1 div.sk-estimator:hover {background-color: #d4ebff;}#sk-container-id-1 div.sk-parallel-item::after {content: \"\";width: 100%;border-bottom: 1px solid gray;flex-grow: 1;}#sk-container-id-1 div.sk-label:hover label.sk-toggleable__label {background-color: #d4ebff;}#sk-container-id-1 div.sk-serial::before {content: \"\";position: absolute;border-left: 1px solid gray;box-sizing: border-box;top: 0;bottom: 0;left: 50%;z-index: 0;}#sk-container-id-1 div.sk-serial {display: flex;flex-direction: column;align-items: center;background-color: white;padding-right: 0.2em;padding-left: 0.2em;position: relative;}#sk-container-id-1 div.sk-item {position: relative;z-index: 1;}#sk-container-id-1 div.sk-parallel {display: flex;align-items: stretch;justify-content: center;background-color: white;position: relative;}#sk-container-id-1 div.sk-item::before, #sk-container-id-1 div.sk-parallel-item::before {content: \"\";position: absolute;border-left: 1px solid gray;box-sizing: border-box;top: 0;bottom: 0;left: 50%;z-index: -1;}#sk-container-id-1 div.sk-parallel-item {display: flex;flex-direction: column;z-index: 1;position: relative;background-color: white;}#sk-container-id-1 div.sk-parallel-item:first-child::after {align-self: flex-end;width: 50%;}#sk-container-id-1 div.sk-parallel-item:last-child::after {align-self: flex-start;width: 50%;}#sk-container-id-1 div.sk-parallel-item:only-child::after {width: 0;}#sk-container-id-1 div.sk-dashed-wrapped {border: 1px dashed gray;margin: 0 0.4em 0.5em 0.4em;box-sizing: border-box;padding-bottom: 0.4em;background-color: white;}#sk-container-id-1 div.sk-label label {font-family: monospace;font-weight: bold;display: inline-block;line-height: 1.2em;}#sk-container-id-1 div.sk-label-container {text-align: center;}#sk-container-id-1 div.sk-container {/* jupyter's `normalize.less` sets `[hidden] { display: none; }` but bootstrap.min.css set `[hidden] { display: none !important; }` so we also need the `!important` here to be able to override the default hidden behavior on the sphinx rendered scikit-learn.org. See: https://github.com/scikit-learn/scikit-learn/issues/21755 */display: inline-block !important;position: relative;}#sk-container-id-1 div.sk-text-repr-fallback {display: none;}</style><div id=\"sk-container-id-1\" class=\"sk-top-container\"><div class=\"sk-text-repr-fallback\"><pre>SVC(kernel=&#x27;linear&#x27;, random_state=42)</pre><b>In a Jupyter environment, please rerun this cell to show the HTML representation or trust the notebook. <br />On GitHub, the HTML representation is unable to render, please try loading this page with nbviewer.org.</b></div><div class=\"sk-container\" hidden><div class=\"sk-item\"><div class=\"sk-estimator sk-toggleable\"><input class=\"sk-toggleable__control sk-hidden--visually\" id=\"sk-estimator-id-1\" type=\"checkbox\" checked><label for=\"sk-estimator-id-1\" class=\"sk-toggleable__label sk-toggleable__label-arrow\">SVC</label><div class=\"sk-toggleable__content\"><pre>SVC(kernel=&#x27;linear&#x27;, random_state=42)</pre></div></div></div></div></div>"
      ],
      "text/plain": [
       "SVC(kernel='linear', random_state=42)"
      ]
     },
     "execution_count": 9,
     "metadata": {},
     "output_type": "execute_result"
    }
   ],
   "source": [
    "from sklearn.svm import SVC\n",
    "\n",
    "# Huấn luyện mô hình SVM\n",
    "model = SVC(kernel='linear', C=1.0, random_state=42)\n",
    "model.fit(X_train_tfidf, y_train)\n",
    "\n"
   ]
  },
  {
   "cell_type": "code",
   "execution_count": 10,
   "metadata": {},
   "outputs": [
    {
     "name": "stdout",
     "output_type": "stream",
     "text": [
      "Báo cáo đánh giá trên tập validation:\n",
      "              precision    recall  f1-score   support\n",
      "\n",
      "         How       0.88      0.81      0.85        27\n",
      "    Quantity       1.00      0.97      0.98        29\n",
      "        What       0.71      0.85      0.77        20\n",
      "        When       0.93      1.00      0.96        25\n",
      "       Where       0.93      0.78      0.85        18\n",
      "         Who       0.96      0.96      0.96        28\n",
      "         Why       1.00      1.00      1.00        29\n",
      "      Yes/No       0.94      0.94      0.94        16\n",
      "\n",
      "    accuracy                           0.92       192\n",
      "   macro avg       0.92      0.91      0.91       192\n",
      "weighted avg       0.93      0.92      0.92       192\n",
      "\n",
      "Báo cáo đánh giá trên tập test:\n",
      "              precision    recall  f1-score   support\n",
      "\n",
      "         How       0.88      0.93      0.90        40\n",
      "    Quantity       0.96      1.00      0.98        27\n",
      "        What       0.89      0.93      0.91        27\n",
      "        When       1.00      0.91      0.95        34\n",
      "       Where       0.97      0.97      0.97        31\n",
      "         Who       0.97      0.97      0.97        33\n",
      "         Why       1.00      0.96      0.98        25\n",
      "      Yes/No       0.91      0.91      0.91        23\n",
      "\n",
      "    accuracy                           0.95       240\n",
      "   macro avg       0.95      0.95      0.95       240\n",
      "weighted avg       0.95      0.95      0.95       240\n",
      "\n"
     ]
    }
   ],
   "source": [
    "from sklearn.metrics import classification_report, confusion_matrix\n",
    "\n",
    "# Đánh giá trên tập validation\n",
    "y_val_pred = model.predict(X_val_tfidf)\n",
    "y_val_pred = model.predict(X_val_tfidf)\n",
    "print(\"Báo cáo đánh giá trên tập validation:\")\n",
    "print(classification_report(y_val, y_val_pred, zero_division=0))\n",
    "\n",
    "# Đánh giá trên tập test\n",
    "y_test_pred = model.predict(X_test_tfidf)\n",
    "print(\"Báo cáo đánh giá trên tập test:\")\n",
    "print(classification_report(y_test, y_test_pred, zero_division=0))"
   ]
  },
  {
   "cell_type": "code",
   "execution_count": 11,
   "metadata": {},
   "outputs": [
    {
     "name": "stdout",
     "output_type": "stream",
     "text": [
      "              precision    recall  f1-score   support\n",
      "\n",
      "         How       0.88      0.93      0.90        40\n",
      "    Quantity       0.96      1.00      0.98        27\n",
      "        What       0.89      0.93      0.91        27\n",
      "        When       1.00      0.91      0.95        34\n",
      "       Where       0.97      0.97      0.97        31\n",
      "         Who       0.97      0.97      0.97        33\n",
      "         Why       1.00      0.96      0.98        25\n",
      "      Yes/No       0.91      0.91      0.91        23\n",
      "\n",
      "    accuracy                           0.95       240\n",
      "   macro avg       0.95      0.95      0.95       240\n",
      "weighted avg       0.95      0.95      0.95       240\n",
      "\n"
     ]
    },
    {
     "data": {
      "image/png": "[encoded data removed]",
      "text/plain": [
       "<Figure size 640x480 with 2 Axes>"
      ]
     },
     "metadata": {},
     "output_type": "display_data"
    }
   ],
   "source": [
    "from sklearn.metrics import classification_report, confusion_matrix\n",
    "import seaborn as sns\n",
    "import matplotlib.pyplot as plt\n",
    "\n",
    "# Báo cáo hiệu năng\n",
    "print(classification_report(y_test, y_test_pred))\n",
    "\n",
    "cm = confusion_matrix(y_test, y_test_pred, labels=y.unique())\n",
    "sns.heatmap(cm, annot=True, fmt='d', xticklabels=y.unique(), yticklabels=y.unique())\n",
    "plt.xlabel('Predicted')\n",
    "plt.ylabel('True')\n",
    "plt.title('Confusion Matrix')\n",
    "plt.show()\n"
   ]
  },
  {
   "cell_type": "code",
   "execution_count": 12,
   "metadata": {},
   "outputs": [
    {
     "data": {
      "text/plain": [
       "['tfidf_vectorizer.pkl']"
      ]
     },
     "execution_count": 12,
     "metadata": {},
     "output_type": "execute_result"
    }
   ],
   "source": [
    "import joblib\n",
    "\n",
    "# Lưu mô hình và vectorizer\n",
    "joblib.dump(model, 'svm_question_classifier.pkl')\n",
    "joblib.dump(vectorizer, 'tfidf_vectorizer.pkl')\n"
   ]
  },
  {
   "cell_type": "code",
   "execution_count": 13,
   "metadata": {},
   "outputs": [
    {
     "name": "stdout",
     "output_type": "stream",
     "text": [
      "Loại câu hỏi: Who\n"
     ]
    }
   ],
   "source": [
    "# Tải mô hình\n",
    "model = joblib.load('svm_question_classifier.pkl')\n",
    "vectorizer = joblib.load('tfidf_vectorizer.pkl')\n",
    "\n",
    "# Dự đoán câu hỏi mới\n",
    "new_question = \"Tôi muốn biết tổng thống nước Mỹ bây giờ là ai?\"\n",
    "processed_question = preprocess_text(new_question)\n",
    "question_vector = vectorizer.transform([processed_question])\n",
    "predicted_label = model.predict(question_vector)\n",
    "print(\"Loại câu hỏi:\", predicted_label[0])\n"
   ]
  }
 ],
 "metadata": {
  "kernelspec": {
   "display_name": "base",
   "language": "python",
   "name": "python3"
  },
  "language_info": {
   "codemirror_mode": {
    "name": "ipython",
    "version": 3
   },
   "file_extension": ".py",
   "mimetype": "text/x-python",
   "name": "python",
   "nbconvert_exporter": "python",
   "pygments_lexer": "ipython3",
   "version": "3.11.7"
  }
 },
 "nbformat": 4,
 "nbformat_minor": 2
}
