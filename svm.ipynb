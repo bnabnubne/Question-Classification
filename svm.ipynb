{
 "cells": [
  {
   "cell_type": "code",
   "execution_count": 4,
   "metadata": {},
   "outputs": [
    {
     "name": "stdout",
     "output_type": "stream",
     "text": [
      "   STT                                           Question     Label  \\\n",
      "0    1                    Vì sao mèo ăn những vật thể lạ?       Why   \n",
      "1    2      Bạn đã chạy được bao nhiêu km trong tuần này?  Quantity   \n",
      "2    3  Tôi tính làm tủ áo cánh kính cửa lùa, có nên l...    Yes/No   \n",
      "3    4  Cách phòng ngừa và điều trị Búi lông “Hairball...       How   \n",
      "4    5  Bạn đã tham gia bao nhiêu buổi tư vấn nghề ngh...  Quantity   \n",
      "\n",
      "                                  processed_question  \n",
      "0                     vì sao mèo ăn những vật thể lạ  \n",
      "1       bạn đã chạy được bao nhiêu km trong tuần này  \n",
      "2  tôi tính làm tủ áo cánh kính cửa lùa có nên là...  \n",
      "3  cách phòng ngừa và điều trị búi lông hairball ...  \n",
      "4  bạn đã tham gia bao nhiêu buổi tư vấn nghề ngh...  \n"
     ]
    }
   ],
   "source": [
    "import pandas as pd\n",
    "import re\n",
    "from underthesea import word_tokenize\n",
    "\n",
    "# Đọc dữ liệu từ file CSV\n",
    "file_path = 'NLP DATASET.csv'  # Đường dẫn đến file của bạn\n",
    "data = pd.read_csv(file_path)\n",
    "\n",
    "# Hàm tiền xử lý câu hỏi\n",
    "def preprocess_text(text):\n",
    "    text = text.lower()  # Chuyển về chữ thường\n",
    "    text = re.sub(r'[^\\w\\s]', '', text)  # Loại bỏ dấu câu và ký tự đặc biệt\n",
    "    tokens = word_tokenize(text)  # Tách từ bằng Underthesea\n",
    "    return ' '.join(tokens)\n",
    "\n",
    "# Áp dụng tiền xử lý cho cột Question\n",
    "data['processed_question'] = data['Question'].apply(preprocess_text)\n",
    "\n",
    "# Kiểm tra kết quả\n",
    "print(data.head())\n"
   ]
  },
  {
   "cell_type": "code",
   "execution_count": 6,
   "metadata": {},
   "outputs": [
    {
     "name": "stdout",
     "output_type": "stream",
     "text": [
      "Shape của vector TF-IDF (train): (960, 1092)\n"
     ]
    }
   ],
   "source": [
    "from sklearn.feature_extraction.text import TfidfVectorizer\n",
    "from sklearn.model_selection import train_test_split\n",
    "\n",
    "# Tách dữ liệu\n",
    "X = data['processed_question']\n",
    "y = data['Label']\n",
    "\n",
    "# Chia tập dữ liệu thành train và test\n",
    "X_train, X_test, y_train, y_test = train_test_split(X, y, test_size=0.2, random_state=42)\n",
    "\n",
    "# Trích xuất đặc trưng TF-IDF\n",
    "vectorizer = TfidfVectorizer(max_features=5000)  # Giới hạn số lượng đặc trưng\n",
    "X_train_tfidf = vectorizer.fit_transform(X_train)\n",
    "X_test_tfidf = vectorizer.transform(X_test)\n",
    "\n",
    "print(\"Shape của vector TF-IDF (train):\", X_train_tfidf.shape)\n"
   ]
  },
  {
   "cell_type": "code",
   "execution_count": 7,
   "metadata": {},
   "outputs": [],
   "source": [
    "from sklearn.svm import SVC\n",
    "\n",
    "# Huấn luyện mô hình SVM\n",
    "model = SVC(kernel='linear', C=1.0, random_state=42)\n",
    "model.fit(X_train_tfidf, y_train)\n",
    "\n",
    "# Dự đoán trên tập kiểm tra\n",
    "y_pred = model.predict(X_test_tfidf)\n"
   ]
  },
  {
   "cell_type": "code",
   "execution_count": 28,
   "metadata": {},
   "outputs": [
    {
     "name": "stdout",
     "output_type": "stream",
     "text": [
      "              precision    recall  f1-score   support\n",
      "\n",
      "         How       0.90      0.90      0.90        40\n",
      "    Quantity       0.96      1.00      0.98        27\n",
      "        What       0.86      0.89      0.87        27\n",
      "        When       0.97      0.88      0.92        34\n",
      "       Where       0.94      1.00      0.97        31\n",
      "         Who       0.97      1.00      0.99        33\n",
      "         Why       1.00      0.96      0.98        25\n",
      "      Yes/No       0.95      0.91      0.93        23\n",
      "\n",
      "    accuracy                           0.94       240\n",
      "   macro avg       0.94      0.94      0.94       240\n",
      "weighted avg       0.94      0.94      0.94       240\n",
      "\n"
     ]
    },
    {
     "data": {
      "image/png": "[encoded data removed]",
      "text/plain": [
       "<Figure size 640x480 with 2 Axes>"
      ]
     },
     "metadata": {},
     "output_type": "display_data"
    }
   ],
   "source": [
    "from sklearn.metrics import classification_report, confusion_matrix\n",
    "import seaborn as sns\n",
    "import matplotlib.pyplot as plt\n",
    "\n",
    "# Báo cáo hiệu năng\n",
    "print(classification_report(y_test, y_pred))\n",
    "\n",
    "cm = confusion_matrix(y_test, y_pred, labels=y.unique())\n",
    "sns.heatmap(cm, annot=True, fmt='d', xticklabels=y.unique(), yticklabels=y.unique())\n",
    "plt.xlabel('Predicted')\n",
    "plt.ylabel('True')\n",
    "plt.title('Confusion Matrix')\n",
    "plt.show()\n"
   ]
  },
  {
   "cell_type": "code",
   "execution_count": 9,
   "metadata": {},
   "outputs": [
    {
     "data": {
      "text/plain": [
       "['tfidf_vectorizer.pkl']"
      ]
     },
     "execution_count": 9,
     "metadata": {},
     "output_type": "execute_result"
    }
   ],
   "source": [
    "import joblib\n",
    "\n",
    "# Lưu mô hình và vectorizer\n",
    "joblib.dump(model, 'svm_question_classifier.pkl')\n",
    "joblib.dump(vectorizer, 'tfidf_vectorizer.pkl')\n"
   ]
  },
  {
   "cell_type": "code",
   "execution_count": 27,
   "metadata": {},
   "outputs": [
    {
     "name": "stdout",
     "output_type": "stream",
     "text": [
      "Loại câu hỏi: Who\n"
     ]
    }
   ],
   "source": [
    "# Tải mô hình\n",
    "model = joblib.load('svm_question_classifier.pkl')\n",
    "vectorizer = joblib.load('tfidf_vectorizer.pkl')\n",
    "\n",
    "# Dự đoán câu hỏi mới\n",
    "new_question = \"Tôi muốn biết tổng thống nước Mỹ bây giờ là ai?\"\n",
    "processed_question = preprocess_text(new_question)\n",
    "question_vector = vectorizer.transform([processed_question])\n",
    "predicted_label = model.predict(question_vector)\n",
    "print(\"Loại câu hỏi:\", predicted_label[0])\n"
   ]
  }
 ],
 "metadata": {
  "kernelspec": {
   "display_name": "base",
   "language": "python",
   "name": "python3"
  },
  "language_info": {
   "codemirror_mode": {
    "name": "ipython",
    "version": 3
   },
   "file_extension": ".py",
   "mimetype": "text/x-python",
   "name": "python",
   "nbconvert_exporter": "python",
   "pygments_lexer": "ipython3",
   "version": "3.11.7"
  }
 },
 "nbformat": 4,
 "nbformat_minor": 2
}
